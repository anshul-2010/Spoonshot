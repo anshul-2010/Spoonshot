{
  "nbformat": 4,
  "nbformat_minor": 0,
  "metadata": {
    "colab": {
      "provenance": []
    },
    "kernelspec": {
      "name": "python3",
      "display_name": "Python 3"
    }
  },
  "cells": [
    {
      "cell_type": "code",
      "metadata": {
        "id": "__TNs3DOBiC0",
        "colab": {
          "base_uri": "https://localhost:8080/"
        },
        "outputId": "7fe8a79a-9d1a-4bfb-dc47-4f1d802bdbbf"
      },
      "source": [
        "text_file = open(\"/content/Article.txt\")   #Here, I have opened the doc containing the article.\n",
        "\n",
        "text = text_file.read()   #This is used to read the data from the text.\n",
        "\n",
        "print (type(text))    #Prints and checks the data type of the text that has been entered.\n",
        "print() \n",
        "\n",
        "print(text)     #Printing the text as found in the article.\n",
        "print()\n",
        "print (len(text))    #Printing the length of the text that has been entered in the article."
      ],
      "execution_count": 1,
      "outputs": [
        {
          "output_type": "stream",
          "name": "stdout",
          "text": [
            "<class 'str'>\n",
            "\n",
            "﻿munchbox meals munchbox is a geelong-based boutique meal prep and delivery service,\n",
            "specialising in artisan vegan and vegetarian meals and munchies. with a passion for\n",
            "providing delicious and nutritious food that is ethical, sustainable and affordable, all\n",
            "munchbox meals are made from scratch using a balance of the freshest local and organic\n",
            "vegetables and fruit, grains, seeds and nuts and homegrown herbs. we chat to eden callick –\n",
            "the brains behind the business – about all things munchbox. hey! thanks for chatting to forte!\n",
            "first up, can you explain how munchbox became to be? munchbox was a daydream turned\n",
            "reality. i was in a really draining job i hated, and would spend the majority of my lunch-break\n",
            "looking for vegan food. the struggle to find a tasty, good quality, vegan meal is real.\n",
            "sometimes it was so real i’d just give up looking, and go hungry. one day i hungrily and\n",
            "jokingly announced, ‘i’m going to open my own vegan food business’ and with that impulsive\n",
            "announcement, i quit my job almost immediately, and promised myself i would put my whole\n",
            "heart and soul in to becoming the best vegan chef i can be. with a whole lot of determination,\n",
            "passion and support from those around me, munchbox was born and is now my baby! I\n",
            "guess a little bit of selfishness for me to have passion and purpose in life, as well as the lack\n",
            "of real quality vegan cuisine on the geelong food scene is really how munchbox came to be\n",
            "– out of necessity. where did your passion for vegan/vegetarian food come from? i’ve always\n",
            "had a love and passion for food, but it wasn’t until i slowly transitioned to vegan that my\n",
            "passion turned into a true obsession! it opened a whole new door for experimentation in the\n",
            "kitchen; i want to create cruelty free food that tastes and looks better, but most importantly is\n",
            "better for you! nothing makes me happier then feeding people and changing their views on\n",
            "vegan food. can you give our readers a run-down of how ‘munchbox’ works? munchbox is\n",
            "an artisan meal prep and delivery service, providing chef made meals to you. our munchers\n",
            "can order online any time before friday midnight, with meals being ready for pick-up or\n",
            "delivery on sunday. ready for the week ahead! these hours will soon be changing to include\n",
            "24/7 online ordering, with pick-up and delivery between 7am-7pm seven days a week. All\n",
            "meals come ready to eat or heat; those that are best enjoyed heated include a lit flame! we\n",
            "also specialise in events and corporate catering; so, if there’s a bunch that’s got the munch,\n",
            "we’re here to feed your sweet souls! where have you gathered most of your recipes and ideas\n",
            "from? i’m constantly gathering ideas and inspiration from anywhere and everywhere! i have a\n",
            "collection of paper scraps with scribbled recipes, and sleep with a notebook next to my bed just\n",
            "in case i dream up a new idea. i have mood-boards, and future menu lists. it’s a mess really! I\n",
            "find so much inspiration and ideas from traditional non-vegan meals, and have been fortunate\n",
            "enough to work alongside some amazing non-vegan chefs who have (taught) and inspired me\n",
            "incredibly. my mumma and sister, who are huge vegan foodies, are always coming up with\n",
            "insane recipes for me as well. but each recipe is ultimately my own, made from scratch, tried\n",
            "and tested until it’s perfected. how do you determine what local and organic ingredients make\n",
            "the cut? we are passionately committed to sustainability and supporting our local community. \n",
            "Our menus are always based around the freshest seasonal produce, sourced from local organic\n",
            "farmers, as well as other artisan vegan businesses who supply some of our ingredients. we also\n",
            "lovingly grow all our own herbs, and as munchbox expands so will our veggie garden; to include\n",
            "some pretty crazy exotic fruit and vege! what type of people does this service suit? munchbox is\n",
            "perfect for those who are time poor, but hungry, and care what they put in to their body. Looking\n",
            "for a delicious and nutritious meal, that isn’t frozen or full of crap. we put all the freshness,\n",
            "flavour, love and care into each meal, so you don’t have to! breaky, lunch, or tea, pick up or\n",
            "delivery, we’ve got you covered so you don’t have to think about cooking a thing! munchbox isn’t\n",
            "exclusively for vegetarians or vegans, but is perfect for those looking to try a tasty healthy\n",
            "alternative! do you do custom orders? or is everything off the set menu? yes! all our meals are\n",
            "fully customisable to suit diet and taste! don’t like tomato? just let us know! gluten intolerant?We\n",
            "got you! you can add or remove any ingredients and extras in our meals when you order.\n",
            "However, if you’d like our chefs to create something extra special just for you, we’re more than\n",
            "happy to! we can customise personalised menus, meal plans and munchboxes just for you!\n",
            "where are you hoping to take munchbox in future? munchbox has big plans for the future! You\n",
            "can expect an ever-changing menu (to keep up with my ever-changing mind). we’ll be\n",
            "incorporating menulog and uber eats as apart of our service, and expanding trading hours and\n",
            "service locations in the very near future. there may also be plans for ‘munch mobile’ to attend\n",
            "festivals, markets, and events.. but i can’t give too much away! we have sooo many surprises\n",
            "for ya’ll, but i can’t spoil them all at once! check it out via insta @vegan.munchbox or you can\n",
            "get your munch on at munchboxmeals.com.au\n",
            "\n",
            "5377\n"
          ]
        }
      ]
    },
    {
      "cell_type": "code",
      "source": [
        "lists_file = open(\"/content/List_Ingredients.txt\")\n",
        "\n",
        "lists = lists_file.read()\n",
        "\n",
        "print(type(lists))\n",
        "print()\n",
        "\n",
        "print(lists)\n",
        "print()\n",
        "print(len)"
      ],
      "metadata": {
        "colab": {
          "base_uri": "https://localhost:8080/"
        },
        "id": "JG1f1v0CJZWL",
        "outputId": "b23b7bab-0225-4869-be36-8bcf0d1f2623"
      },
      "execution_count": 2,
      "outputs": [
        {
          "output_type": "stream",
          "name": "stdout",
          "text": [
            "<class 'str'>\n",
            "\n",
            "﻿Ambrette Seed,Apple Cinnamon Granola,Arizona Seasoning,Americano Coffee,Baby Abalone,Cadbury Double Decker Chocolate Bar,Campari Tomato,Celery Soup,Chia Meal,Crunch Bars,Cardamom,Giardiniera,Hog Maw,Mccormick Montreal Steak Seasoning,Muesli,Mulberry,Munch Chocolate,Murukku Packet,Mango,Organic Maize,Organic Peruvian Groundcherry,Organic Tartar Cream,Orange Extract,Pickled Cauliflower,Pork Chump Chops,Pork Lungs,Pork Tripe,Peanut Butter,Smokies Sausage,Snickers Spread,Strawberry Gelatin,Salmon,Tomato,Tamarind,Vegan Carob Chips,Vegan Chicken Strips,Vegan Chorizo,Vegan Marshmallow,Vegan Puff Pastry Sheet,Vegan Semisweet Chocolate Chips,Vegan White Cake,Vegetable Stock,Vinegar\n",
            "\n",
            "<built-in function len>\n"
          ]
        }
      ]
    },
    {
      "cell_type": "code",
      "source": [
        "ingredient=lists.split(',')\n",
        "print(ingredient)"
      ],
      "metadata": {
        "colab": {
          "base_uri": "https://localhost:8080/"
        },
        "id": "1M7YsjajJ7dl",
        "outputId": "a85e3e6f-9b7f-4039-9596-4f73512b4c99"
      },
      "execution_count": 3,
      "outputs": [
        {
          "output_type": "stream",
          "name": "stdout",
          "text": [
            "['\\ufeffAmbrette Seed', 'Apple Cinnamon Granola', 'Arizona Seasoning', 'Americano Coffee', 'Baby Abalone', 'Cadbury Double Decker Chocolate Bar', 'Campari Tomato', 'Celery Soup', 'Chia Meal', 'Crunch Bars', 'Cardamom', 'Giardiniera', 'Hog Maw', 'Mccormick Montreal Steak Seasoning', 'Muesli', 'Mulberry', 'Munch Chocolate', 'Murukku Packet', 'Mango', 'Organic Maize', 'Organic Peruvian Groundcherry', 'Organic Tartar Cream', 'Orange Extract', 'Pickled Cauliflower', 'Pork Chump Chops', 'Pork Lungs', 'Pork Tripe', 'Peanut Butter', 'Smokies Sausage', 'Snickers Spread', 'Strawberry Gelatin', 'Salmon', 'Tomato', 'Tamarind', 'Vegan Carob Chips', 'Vegan Chicken Strips', 'Vegan Chorizo', 'Vegan Marshmallow', 'Vegan Puff Pastry Sheet', 'Vegan Semisweet Chocolate Chips', 'Vegan White Cake', 'Vegetable Stock', 'Vinegar']\n"
          ]
        }
      ]
    },
    {
      "cell_type": "code",
      "source": [
        "ingredient[0]=ingredient[0][1:]   # Removing the faulty first character(\\ufeff) that was present in the list.\n",
        "print(ingredient)"
      ],
      "metadata": {
        "colab": {
          "base_uri": "https://localhost:8080/"
        },
        "id": "828ry3uvLyPh",
        "outputId": "a5de2c7d-c616-40bc-9e26-aa9eb267ae33"
      },
      "execution_count": 4,
      "outputs": [
        {
          "output_type": "stream",
          "name": "stdout",
          "text": [
            "['Ambrette Seed', 'Apple Cinnamon Granola', 'Arizona Seasoning', 'Americano Coffee', 'Baby Abalone', 'Cadbury Double Decker Chocolate Bar', 'Campari Tomato', 'Celery Soup', 'Chia Meal', 'Crunch Bars', 'Cardamom', 'Giardiniera', 'Hog Maw', 'Mccormick Montreal Steak Seasoning', 'Muesli', 'Mulberry', 'Munch Chocolate', 'Murukku Packet', 'Mango', 'Organic Maize', 'Organic Peruvian Groundcherry', 'Organic Tartar Cream', 'Orange Extract', 'Pickled Cauliflower', 'Pork Chump Chops', 'Pork Lungs', 'Pork Tripe', 'Peanut Butter', 'Smokies Sausage', 'Snickers Spread', 'Strawberry Gelatin', 'Salmon', 'Tomato', 'Tamarind', 'Vegan Carob Chips', 'Vegan Chicken Strips', 'Vegan Chorizo', 'Vegan Marshmallow', 'Vegan Puff Pastry Sheet', 'Vegan Semisweet Chocolate Chips', 'Vegan White Cake', 'Vegetable Stock', 'Vinegar']\n"
          ]
        }
      ]
    },
    {
      "cell_type": "code",
      "source": [
        "ingr=[]\n",
        "for k in range(len(ingredient)):\n",
        "  ingr.append(ingredient[k])\n",
        "for i in range(len(ingr)):\n",
        "  ingr[i] = ingr[i].lower()\n",
        "print(ingr)"
      ],
      "metadata": {
        "colab": {
          "base_uri": "https://localhost:8080/"
        },
        "id": "jX6mIDVwGFWt",
        "outputId": "3e8fd77f-e21f-4fbc-cd93-6582f243e2dc"
      },
      "execution_count": 5,
      "outputs": [
        {
          "output_type": "stream",
          "name": "stdout",
          "text": [
            "['ambrette seed', 'apple cinnamon granola', 'arizona seasoning', 'americano coffee', 'baby abalone', 'cadbury double decker chocolate bar', 'campari tomato', 'celery soup', 'chia meal', 'crunch bars', 'cardamom', 'giardiniera', 'hog maw', 'mccormick montreal steak seasoning', 'muesli', 'mulberry', 'munch chocolate', 'murukku packet', 'mango', 'organic maize', 'organic peruvian groundcherry', 'organic tartar cream', 'orange extract', 'pickled cauliflower', 'pork chump chops', 'pork lungs', 'pork tripe', 'peanut butter', 'smokies sausage', 'snickers spread', 'strawberry gelatin', 'salmon', 'tomato', 'tamarind', 'vegan carob chips', 'vegan chicken strips', 'vegan chorizo', 'vegan marshmallow', 'vegan puff pastry sheet', 'vegan semisweet chocolate chips', 'vegan white cake', 'vegetable stock', 'vinegar']\n"
          ]
        }
      ]
    },
    {
      "cell_type": "code",
      "metadata": {
        "id": "kk-wDQ4zdAvF",
        "colab": {
          "base_uri": "https://localhost:8080/"
        },
        "outputId": "0e7f4b8a-e5f0-4889-dfa5-eac76f014f18"
      },
      "source": [
        "# We shall now import the libraries required to build python programs that work with human language data.\n",
        "import nltk\n",
        "from nltk import sent_tokenize\n",
        "from nltk import word_tokenize\n",
        "\n",
        "\n",
        "import nltk\n",
        "nltk.download(\"popular\")"
      ],
      "execution_count": 6,
      "outputs": [
        {
          "output_type": "stream",
          "name": "stderr",
          "text": [
            "[nltk_data] Downloading collection 'popular'\n",
            "[nltk_data]    | \n",
            "[nltk_data]    | Downloading package cmudict to /root/nltk_data...\n",
            "[nltk_data]    |   Package cmudict is already up-to-date!\n",
            "[nltk_data]    | Downloading package gazetteers to /root/nltk_data...\n",
            "[nltk_data]    |   Package gazetteers is already up-to-date!\n",
            "[nltk_data]    | Downloading package genesis to /root/nltk_data...\n",
            "[nltk_data]    |   Package genesis is already up-to-date!\n",
            "[nltk_data]    | Downloading package gutenberg to /root/nltk_data...\n",
            "[nltk_data]    |   Package gutenberg is already up-to-date!\n",
            "[nltk_data]    | Downloading package inaugural to /root/nltk_data...\n",
            "[nltk_data]    |   Package inaugural is already up-to-date!\n",
            "[nltk_data]    | Downloading package movie_reviews to\n",
            "[nltk_data]    |     /root/nltk_data...\n",
            "[nltk_data]    |   Package movie_reviews is already up-to-date!\n",
            "[nltk_data]    | Downloading package names to /root/nltk_data...\n",
            "[nltk_data]    |   Package names is already up-to-date!\n",
            "[nltk_data]    | Downloading package shakespeare to /root/nltk_data...\n",
            "[nltk_data]    |   Package shakespeare is already up-to-date!\n",
            "[nltk_data]    | Downloading package stopwords to /root/nltk_data...\n",
            "[nltk_data]    |   Package stopwords is already up-to-date!\n",
            "[nltk_data]    | Downloading package treebank to /root/nltk_data...\n",
            "[nltk_data]    |   Package treebank is already up-to-date!\n",
            "[nltk_data]    | Downloading package twitter_samples to\n",
            "[nltk_data]    |     /root/nltk_data...\n",
            "[nltk_data]    |   Package twitter_samples is already up-to-date!\n",
            "[nltk_data]    | Downloading package omw to /root/nltk_data...\n",
            "[nltk_data]    |   Package omw is already up-to-date!\n",
            "[nltk_data]    | Downloading package omw-1.4 to /root/nltk_data...\n",
            "[nltk_data]    |   Package omw-1.4 is already up-to-date!\n",
            "[nltk_data]    | Downloading package wordnet to /root/nltk_data...\n",
            "[nltk_data]    |   Package wordnet is already up-to-date!\n",
            "[nltk_data]    | Downloading package wordnet2021 to /root/nltk_data...\n",
            "[nltk_data]    |   Package wordnet2021 is already up-to-date!\n",
            "[nltk_data]    | Downloading package wordnet31 to /root/nltk_data...\n",
            "[nltk_data]    |   Package wordnet31 is already up-to-date!\n",
            "[nltk_data]    | Downloading package wordnet_ic to /root/nltk_data...\n",
            "[nltk_data]    |   Package wordnet_ic is already up-to-date!\n",
            "[nltk_data]    | Downloading package words to /root/nltk_data...\n",
            "[nltk_data]    |   Package words is already up-to-date!\n",
            "[nltk_data]    | Downloading package maxent_ne_chunker to\n",
            "[nltk_data]    |     /root/nltk_data...\n",
            "[nltk_data]    |   Package maxent_ne_chunker is already up-to-date!\n",
            "[nltk_data]    | Downloading package punkt to /root/nltk_data...\n",
            "[nltk_data]    |   Package punkt is already up-to-date!\n",
            "[nltk_data]    | Downloading package snowball_data to\n",
            "[nltk_data]    |     /root/nltk_data...\n",
            "[nltk_data]    |   Package snowball_data is already up-to-date!\n",
            "[nltk_data]    | Downloading package averaged_perceptron_tagger to\n",
            "[nltk_data]    |     /root/nltk_data...\n",
            "[nltk_data]    |   Package averaged_perceptron_tagger is already up-\n",
            "[nltk_data]    |       to-date!\n",
            "[nltk_data]    | \n",
            "[nltk_data]  Done downloading collection popular\n"
          ]
        },
        {
          "output_type": "execute_result",
          "data": {
            "text/plain": [
              "True"
            ]
          },
          "metadata": {},
          "execution_count": 6
        }
      ]
    },
    {
      "cell_type": "code",
      "metadata": {
        "id": "nR2CzbHWdKrH",
        "colab": {
          "base_uri": "https://localhost:8080/"
        },
        "outputId": "207300f6-0d24-4b0a-eecd-b00654e4117c"
      },
      "source": [
        "sentences = sent_tokenize(text)  #We shall tokenize the text by divinding into sentences.\n",
        "\n",
        "print (len(sentences))  # Counts the number of sentences classified.\n",
        "\n",
        "sentences"
      ],
      "execution_count": 7,
      "outputs": [
        {
          "output_type": "stream",
          "name": "stdout",
          "text": [
            "59\n"
          ]
        },
        {
          "output_type": "execute_result",
          "data": {
            "text/plain": [
              "['\\ufeffmunchbox meals munchbox is a geelong-based boutique meal prep and delivery service,\\nspecialising in artisan vegan and vegetarian meals and munchies.',\n",
              " 'with a passion for\\nproviding delicious and nutritious food that is ethical, sustainable and affordable, all\\nmunchbox meals are made from scratch using a balance of the freshest local and organic\\nvegetables and fruit, grains, seeds and nuts and homegrown herbs.',\n",
              " 'we chat to eden callick –\\nthe brains behind the business – about all things munchbox.',\n",
              " 'hey!',\n",
              " 'thanks for chatting to forte!',\n",
              " 'first up, can you explain how munchbox became to be?',\n",
              " 'munchbox was a daydream turned\\nreality.',\n",
              " 'i was in a really draining job i hated, and would spend the majority of my lunch-break\\nlooking for vegan food.',\n",
              " 'the struggle to find a tasty, good quality, vegan meal is real.',\n",
              " 'sometimes it was so real i’d just give up looking, and go hungry.',\n",
              " 'one day i hungrily and\\njokingly announced, ‘i’m going to open my own vegan food business’ and with that impulsive\\nannouncement, i quit my job almost immediately, and promised myself i would put my whole\\nheart and soul in to becoming the best vegan chef i can be.',\n",
              " 'with a whole lot of determination,\\npassion and support from those around me, munchbox was born and is now my baby!',\n",
              " 'I\\nguess a little bit of selfishness for me to have passion and purpose in life, as well as the lack\\nof real quality vegan cuisine on the geelong food scene is really how munchbox came to be\\n– out of necessity.',\n",
              " 'where did your passion for vegan/vegetarian food come from?',\n",
              " 'i’ve always\\nhad a love and passion for food, but it wasn’t until i slowly transitioned to vegan that my\\npassion turned into a true obsession!',\n",
              " 'it opened a whole new door for experimentation in the\\nkitchen; i want to create cruelty free food that tastes and looks better, but most importantly is\\nbetter for you!',\n",
              " 'nothing makes me happier then feeding people and changing their views on\\nvegan food.',\n",
              " 'can you give our readers a run-down of how ‘munchbox’ works?',\n",
              " 'munchbox is\\nan artisan meal prep and delivery service, providing chef made meals to you.',\n",
              " 'our munchers\\ncan order online any time before friday midnight, with meals being ready for pick-up or\\ndelivery on sunday.',\n",
              " 'ready for the week ahead!',\n",
              " 'these hours will soon be changing to include\\n24/7 online ordering, with pick-up and delivery between 7am-7pm seven days a week.',\n",
              " 'All\\nmeals come ready to eat or heat; those that are best enjoyed heated include a lit flame!',\n",
              " 'we\\nalso specialise in events and corporate catering; so, if there’s a bunch that’s got the munch,\\nwe’re here to feed your sweet souls!',\n",
              " 'where have you gathered most of your recipes and ideas\\nfrom?',\n",
              " 'i’m constantly gathering ideas and inspiration from anywhere and everywhere!',\n",
              " 'i have a\\ncollection of paper scraps with scribbled recipes, and sleep with a notebook next to my bed just\\nin case i dream up a new idea.',\n",
              " 'i have mood-boards, and future menu lists.',\n",
              " 'it’s a mess really!',\n",
              " 'I\\nfind so much inspiration and ideas from traditional non-vegan meals, and have been fortunate\\nenough to work alongside some amazing non-vegan chefs who have (taught) and inspired me\\nincredibly.',\n",
              " 'my mumma and sister, who are huge vegan foodies, are always coming up with\\ninsane recipes for me as well.',\n",
              " 'but each recipe is ultimately my own, made from scratch, tried\\nand tested until it’s perfected.',\n",
              " 'how do you determine what local and organic ingredients make\\nthe cut?',\n",
              " 'we are passionately committed to sustainability and supporting our local community.',\n",
              " 'Our menus are always based around the freshest seasonal produce, sourced from local organic\\nfarmers, as well as other artisan vegan businesses who supply some of our ingredients.',\n",
              " 'we also\\nlovingly grow all our own herbs, and as munchbox expands so will our veggie garden; to include\\nsome pretty crazy exotic fruit and vege!',\n",
              " 'what type of people does this service suit?',\n",
              " 'munchbox is\\nperfect for those who are time poor, but hungry, and care what they put in to their body.',\n",
              " 'Looking\\nfor a delicious and nutritious meal, that isn’t frozen or full of crap.',\n",
              " 'we put all the freshness,\\nflavour, love and care into each meal, so you don’t have to!',\n",
              " 'breaky, lunch, or tea, pick up or\\ndelivery, we’ve got you covered so you don’t have to think about cooking a thing!',\n",
              " 'munchbox isn’t\\nexclusively for vegetarians or vegans, but is perfect for those looking to try a tasty healthy\\nalternative!',\n",
              " 'do you do custom orders?',\n",
              " 'or is everything off the set menu?',\n",
              " 'yes!',\n",
              " 'all our meals are\\nfully customisable to suit diet and taste!',\n",
              " 'don’t like tomato?',\n",
              " 'just let us know!',\n",
              " 'gluten intolerant?We\\ngot you!',\n",
              " 'you can add or remove any ingredients and extras in our meals when you order.',\n",
              " 'However, if you’d like our chefs to create something extra special just for you, we’re more than\\nhappy to!',\n",
              " 'we can customise personalised menus, meal plans and munchboxes just for you!',\n",
              " 'where are you hoping to take munchbox in future?',\n",
              " 'munchbox has big plans for the future!',\n",
              " 'You\\ncan expect an ever-changing menu (to keep up with my ever-changing mind).',\n",
              " 'we’ll be\\nincorporating menulog and uber eats as apart of our service, and expanding trading hours and\\nservice locations in the very near future.',\n",
              " 'there may also be plans for ‘munch mobile’ to attend\\nfestivals, markets, and events.. but i can’t give too much away!',\n",
              " 'we have sooo many surprises\\nfor ya’ll, but i can’t spoil them all at once!',\n",
              " 'check it out via insta @vegan.munchbox or you can\\nget your munch on at munchboxmeals.com.au']"
            ]
          },
          "metadata": {},
          "execution_count": 7
        }
      ]
    },
    {
      "cell_type": "code",
      "metadata": {
        "id": "pUPacHqcdqc1",
        "colab": {
          "base_uri": "https://localhost:8080/"
        },
        "outputId": "fa2cd8ae-a172-4691-eeaf-e35b0e33a283"
      },
      "source": [
        "words = word_tokenize(text)   # Tokenising the text with words.\n",
        "\n",
        "print (len(words))  #Counts the number of words.\n",
        "print(\"\\n\")\n",
        "\n",
        "print(words) #Printing the words."
      ],
      "execution_count": 8,
      "outputs": [
        {
          "output_type": "stream",
          "name": "stdout",
          "text": [
            "1109\n",
            "\n",
            "\n",
            "['\\ufeffmunchbox', 'meals', 'munchbox', 'is', 'a', 'geelong-based', 'boutique', 'meal', 'prep', 'and', 'delivery', 'service', ',', 'specialising', 'in', 'artisan', 'vegan', 'and', 'vegetarian', 'meals', 'and', 'munchies', '.', 'with', 'a', 'passion', 'for', 'providing', 'delicious', 'and', 'nutritious', 'food', 'that', 'is', 'ethical', ',', 'sustainable', 'and', 'affordable', ',', 'all', 'munchbox', 'meals', 'are', 'made', 'from', 'scratch', 'using', 'a', 'balance', 'of', 'the', 'freshest', 'local', 'and', 'organic', 'vegetables', 'and', 'fruit', ',', 'grains', ',', 'seeds', 'and', 'nuts', 'and', 'homegrown', 'herbs', '.', 'we', 'chat', 'to', 'eden', 'callick', '–', 'the', 'brains', 'behind', 'the', 'business', '–', 'about', 'all', 'things', 'munchbox', '.', 'hey', '!', 'thanks', 'for', 'chatting', 'to', 'forte', '!', 'first', 'up', ',', 'can', 'you', 'explain', 'how', 'munchbox', 'became', 'to', 'be', '?', 'munchbox', 'was', 'a', 'daydream', 'turned', 'reality', '.', 'i', 'was', 'in', 'a', 'really', 'draining', 'job', 'i', 'hated', ',', 'and', 'would', 'spend', 'the', 'majority', 'of', 'my', 'lunch-break', 'looking', 'for', 'vegan', 'food', '.', 'the', 'struggle', 'to', 'find', 'a', 'tasty', ',', 'good', 'quality', ',', 'vegan', 'meal', 'is', 'real', '.', 'sometimes', 'it', 'was', 'so', 'real', 'i', '’', 'd', 'just', 'give', 'up', 'looking', ',', 'and', 'go', 'hungry', '.', 'one', 'day', 'i', 'hungrily', 'and', 'jokingly', 'announced', ',', '‘', 'i', '’', 'm', 'going', 'to', 'open', 'my', 'own', 'vegan', 'food', 'business', '’', 'and', 'with', 'that', 'impulsive', 'announcement', ',', 'i', 'quit', 'my', 'job', 'almost', 'immediately', ',', 'and', 'promised', 'myself', 'i', 'would', 'put', 'my', 'whole', 'heart', 'and', 'soul', 'in', 'to', 'becoming', 'the', 'best', 'vegan', 'chef', 'i', 'can', 'be', '.', 'with', 'a', 'whole', 'lot', 'of', 'determination', ',', 'passion', 'and', 'support', 'from', 'those', 'around', 'me', ',', 'munchbox', 'was', 'born', 'and', 'is', 'now', 'my', 'baby', '!', 'I', 'guess', 'a', 'little', 'bit', 'of', 'selfishness', 'for', 'me', 'to', 'have', 'passion', 'and', 'purpose', 'in', 'life', ',', 'as', 'well', 'as', 'the', 'lack', 'of', 'real', 'quality', 'vegan', 'cuisine', 'on', 'the', 'geelong', 'food', 'scene', 'is', 'really', 'how', 'munchbox', 'came', 'to', 'be', '–', 'out', 'of', 'necessity', '.', 'where', 'did', 'your', 'passion', 'for', 'vegan/vegetarian', 'food', 'come', 'from', '?', 'i', '’', 've', 'always', 'had', 'a', 'love', 'and', 'passion', 'for', 'food', ',', 'but', 'it', 'wasn', '’', 't', 'until', 'i', 'slowly', 'transitioned', 'to', 'vegan', 'that', 'my', 'passion', 'turned', 'into', 'a', 'true', 'obsession', '!', 'it', 'opened', 'a', 'whole', 'new', 'door', 'for', 'experimentation', 'in', 'the', 'kitchen', ';', 'i', 'want', 'to', 'create', 'cruelty', 'free', 'food', 'that', 'tastes', 'and', 'looks', 'better', ',', 'but', 'most', 'importantly', 'is', 'better', 'for', 'you', '!', 'nothing', 'makes', 'me', 'happier', 'then', 'feeding', 'people', 'and', 'changing', 'their', 'views', 'on', 'vegan', 'food', '.', 'can', 'you', 'give', 'our', 'readers', 'a', 'run-down', 'of', 'how', '‘', 'munchbox', '’', 'works', '?', 'munchbox', 'is', 'an', 'artisan', 'meal', 'prep', 'and', 'delivery', 'service', ',', 'providing', 'chef', 'made', 'meals', 'to', 'you', '.', 'our', 'munchers', 'can', 'order', 'online', 'any', 'time', 'before', 'friday', 'midnight', ',', 'with', 'meals', 'being', 'ready', 'for', 'pick-up', 'or', 'delivery', 'on', 'sunday', '.', 'ready', 'for', 'the', 'week', 'ahead', '!', 'these', 'hours', 'will', 'soon', 'be', 'changing', 'to', 'include', '24/7', 'online', 'ordering', ',', 'with', 'pick-up', 'and', 'delivery', 'between', '7am-7pm', 'seven', 'days', 'a', 'week', '.', 'All', 'meals', 'come', 'ready', 'to', 'eat', 'or', 'heat', ';', 'those', 'that', 'are', 'best', 'enjoyed', 'heated', 'include', 'a', 'lit', 'flame', '!', 'we', 'also', 'specialise', 'in', 'events', 'and', 'corporate', 'catering', ';', 'so', ',', 'if', 'there', '’', 's', 'a', 'bunch', 'that', '’', 's', 'got', 'the', 'munch', ',', 'we', '’', 're', 'here', 'to', 'feed', 'your', 'sweet', 'souls', '!', 'where', 'have', 'you', 'gathered', 'most', 'of', 'your', 'recipes', 'and', 'ideas', 'from', '?', 'i', '’', 'm', 'constantly', 'gathering', 'ideas', 'and', 'inspiration', 'from', 'anywhere', 'and', 'everywhere', '!', 'i', 'have', 'a', 'collection', 'of', 'paper', 'scraps', 'with', 'scribbled', 'recipes', ',', 'and', 'sleep', 'with', 'a', 'notebook', 'next', 'to', 'my', 'bed', 'just', 'in', 'case', 'i', 'dream', 'up', 'a', 'new', 'idea', '.', 'i', 'have', 'mood-boards', ',', 'and', 'future', 'menu', 'lists', '.', 'it', '’', 's', 'a', 'mess', 'really', '!', 'I', 'find', 'so', 'much', 'inspiration', 'and', 'ideas', 'from', 'traditional', 'non-vegan', 'meals', ',', 'and', 'have', 'been', 'fortunate', 'enough', 'to', 'work', 'alongside', 'some', 'amazing', 'non-vegan', 'chefs', 'who', 'have', '(', 'taught', ')', 'and', 'inspired', 'me', 'incredibly', '.', 'my', 'mumma', 'and', 'sister', ',', 'who', 'are', 'huge', 'vegan', 'foodies', ',', 'are', 'always', 'coming', 'up', 'with', 'insane', 'recipes', 'for', 'me', 'as', 'well', '.', 'but', 'each', 'recipe', 'is', 'ultimately', 'my', 'own', ',', 'made', 'from', 'scratch', ',', 'tried', 'and', 'tested', 'until', 'it', '’', 's', 'perfected', '.', 'how', 'do', 'you', 'determine', 'what', 'local', 'and', 'organic', 'ingredients', 'make', 'the', 'cut', '?', 'we', 'are', 'passionately', 'committed', 'to', 'sustainability', 'and', 'supporting', 'our', 'local', 'community', '.', 'Our', 'menus', 'are', 'always', 'based', 'around', 'the', 'freshest', 'seasonal', 'produce', ',', 'sourced', 'from', 'local', 'organic', 'farmers', ',', 'as', 'well', 'as', 'other', 'artisan', 'vegan', 'businesses', 'who', 'supply', 'some', 'of', 'our', 'ingredients', '.', 'we', 'also', 'lovingly', 'grow', 'all', 'our', 'own', 'herbs', ',', 'and', 'as', 'munchbox', 'expands', 'so', 'will', 'our', 'veggie', 'garden', ';', 'to', 'include', 'some', 'pretty', 'crazy', 'exotic', 'fruit', 'and', 'vege', '!', 'what', 'type', 'of', 'people', 'does', 'this', 'service', 'suit', '?', 'munchbox', 'is', 'perfect', 'for', 'those', 'who', 'are', 'time', 'poor', ',', 'but', 'hungry', ',', 'and', 'care', 'what', 'they', 'put', 'in', 'to', 'their', 'body', '.', 'Looking', 'for', 'a', 'delicious', 'and', 'nutritious', 'meal', ',', 'that', 'isn', '’', 't', 'frozen', 'or', 'full', 'of', 'crap', '.', 'we', 'put', 'all', 'the', 'freshness', ',', 'flavour', ',', 'love', 'and', 'care', 'into', 'each', 'meal', ',', 'so', 'you', 'don', '’', 't', 'have', 'to', '!', 'breaky', ',', 'lunch', ',', 'or', 'tea', ',', 'pick', 'up', 'or', 'delivery', ',', 'we', '’', 've', 'got', 'you', 'covered', 'so', 'you', 'don', '’', 't', 'have', 'to', 'think', 'about', 'cooking', 'a', 'thing', '!', 'munchbox', 'isn', '’', 't', 'exclusively', 'for', 'vegetarians', 'or', 'vegans', ',', 'but', 'is', 'perfect', 'for', 'those', 'looking', 'to', 'try', 'a', 'tasty', 'healthy', 'alternative', '!', 'do', 'you', 'do', 'custom', 'orders', '?', 'or', 'is', 'everything', 'off', 'the', 'set', 'menu', '?', 'yes', '!', 'all', 'our', 'meals', 'are', 'fully', 'customisable', 'to', 'suit', 'diet', 'and', 'taste', '!', 'don', '’', 't', 'like', 'tomato', '?', 'just', 'let', 'us', 'know', '!', 'gluten', 'intolerant', '?', 'We', 'got', 'you', '!', 'you', 'can', 'add', 'or', 'remove', 'any', 'ingredients', 'and', 'extras', 'in', 'our', 'meals', 'when', 'you', 'order', '.', 'However', ',', 'if', 'you', '’', 'd', 'like', 'our', 'chefs', 'to', 'create', 'something', 'extra', 'special', 'just', 'for', 'you', ',', 'we', '’', 're', 'more', 'than', 'happy', 'to', '!', 'we', 'can', 'customise', 'personalised', 'menus', ',', 'meal', 'plans', 'and', 'munchboxes', 'just', 'for', 'you', '!', 'where', 'are', 'you', 'hoping', 'to', 'take', 'munchbox', 'in', 'future', '?', 'munchbox', 'has', 'big', 'plans', 'for', 'the', 'future', '!', 'You', 'can', 'expect', 'an', 'ever-changing', 'menu', '(', 'to', 'keep', 'up', 'with', 'my', 'ever-changing', 'mind', ')', '.', 'we', '’', 'll', 'be', 'incorporating', 'menulog', 'and', 'uber', 'eats', 'as', 'apart', 'of', 'our', 'service', ',', 'and', 'expanding', 'trading', 'hours', 'and', 'service', 'locations', 'in', 'the', 'very', 'near', 'future', '.', 'there', 'may', 'also', 'be', 'plans', 'for', '‘', 'munch', 'mobile', '’', 'to', 'attend', 'festivals', ',', 'markets', ',', 'and', 'events', '..', 'but', 'i', 'can', '’', 't', 'give', 'too', 'much', 'away', '!', 'we', 'have', 'sooo', 'many', 'surprises', 'for', 'ya', '’', 'll', ',', 'but', 'i', 'can', '’', 't', 'spoil', 'them', 'all', 'at', 'once', '!', 'check', 'it', 'out', 'via', 'insta', '@', 'vegan.munchbox', 'or', 'you', 'can', 'get', 'your', 'munch', 'on', 'at', 'munchboxmeals.com.au']\n"
          ]
        }
      ]
    },
    {
      "cell_type": "code",
      "metadata": {
        "id": "JsBVhkCFdsuU",
        "colab": {
          "base_uri": "https://localhost:8080/"
        },
        "outputId": "1d32a3c3-7417-466e-e678-2bb02c0c9652"
      },
      "source": [
        "from nltk.probability import FreqDist #importing the libraries needed to count frequencies.\n",
        "\n",
        "fdist = FreqDist(words)  # Gives the frequency of words\n",
        "\n",
        "fdist.most_common(10)  # From the list of words, prints the 10 most frequent words."
      ],
      "execution_count": 9,
      "outputs": [
        {
          "output_type": "execute_result",
          "data": {
            "text/plain": [
              "[(',', 51),\n",
              " ('and', 48),\n",
              " ('to', 28),\n",
              " ('.', 25),\n",
              " ('’', 25),\n",
              " ('!', 23),\n",
              " ('a', 22),\n",
              " ('for', 20),\n",
              " ('you', 18),\n",
              " ('the', 17)]"
            ]
          },
          "metadata": {},
          "execution_count": 9
        }
      ]
    },
    {
      "cell_type": "code",
      "metadata": {
        "id": "LtNIRQvTduKt",
        "colab": {
          "base_uri": "https://localhost:8080/",
          "height": 305
        },
        "outputId": "3d6ba7cc-a476-4057-a41b-aece5c62c1d5"
      },
      "source": [
        "import matplotlib.pyplot as plt #Plotting the graph for the 10 common words printed above.\n",
        "\n",
        "fdist.plot(10)"
      ],
      "execution_count": 10,
      "outputs": [
        {
          "output_type": "display_data",
          "data": {
            "text/plain": [
              "<Figure size 432x288 with 1 Axes>"
            ],
            "image/png": "[encoded data removed]"
          },
          "metadata": {
            "needs_background": "light"
          }
        },
        {
          "output_type": "execute_result",
          "data": {
            "text/plain": [
              "<matplotlib.axes._subplots.AxesSubplot at 0x7f38e6ab3350>"
            ]
          },
          "metadata": {},
          "execution_count": 10
        }
      ]
    },
    {
      "cell_type": "markdown",
      "source": [
        "`We saw above that most of the words that were found to have high frequency were punctuation marks.`\n",
        "\n",
        "So we shall now try to get rid of these punctuation marks and check the frequency of words."
      ],
      "metadata": {
        "id": "FJ_bdPsqCBIu"
      }
    },
    {
      "cell_type": "code",
      "metadata": {
        "id": "tUPyjVHrdveU",
        "colab": {
          "base_uri": "https://localhost:8080/"
        },
        "outputId": "01f34d6c-7f52-4e9a-f444-f8179e902b3a"
      },
      "source": [
        "words_no_punc = []  #Making a list to store words.\n",
        "\n",
        "#Removing punctuation marks :\n",
        "for w in words:\n",
        "    if w.isalpha():\n",
        "        words_no_punc.append(w.lower())\n",
        "\n",
        "#Print the words without punctution marks :\n",
        "print (words_no_punc)\n",
        "\n",
        "print (\"\\n\")\n",
        "\n",
        "print (len(words_no_punc))"
      ],
      "execution_count": 11,
      "outputs": [
        {
          "output_type": "stream",
          "name": "stdout",
          "text": [
            "['meals', 'munchbox', 'is', 'a', 'boutique', 'meal', 'prep', 'and', 'delivery', 'service', 'specialising', 'in', 'artisan', 'vegan', 'and', 'vegetarian', 'meals', 'and', 'munchies', 'with', 'a', 'passion', 'for', 'providing', 'delicious', 'and', 'nutritious', 'food', 'that', 'is', 'ethical', 'sustainable', 'and', 'affordable', 'all', 'munchbox', 'meals', 'are', 'made', 'from', 'scratch', 'using', 'a', 'balance', 'of', 'the', 'freshest', 'local', 'and', 'organic', 'vegetables', 'and', 'fruit', 'grains', 'seeds', 'and', 'nuts', 'and', 'homegrown', 'herbs', 'we', 'chat', 'to', 'eden', 'callick', 'the', 'brains', 'behind', 'the', 'business', 'about', 'all', 'things', 'munchbox', 'hey', 'thanks', 'for', 'chatting', 'to', 'forte', 'first', 'up', 'can', 'you', 'explain', 'how', 'munchbox', 'became', 'to', 'be', 'munchbox', 'was', 'a', 'daydream', 'turned', 'reality', 'i', 'was', 'in', 'a', 'really', 'draining', 'job', 'i', 'hated', 'and', 'would', 'spend', 'the', 'majority', 'of', 'my', 'looking', 'for', 'vegan', 'food', 'the', 'struggle', 'to', 'find', 'a', 'tasty', 'good', 'quality', 'vegan', 'meal', 'is', 'real', 'sometimes', 'it', 'was', 'so', 'real', 'i', 'd', 'just', 'give', 'up', 'looking', 'and', 'go', 'hungry', 'one', 'day', 'i', 'hungrily', 'and', 'jokingly', 'announced', 'i', 'm', 'going', 'to', 'open', 'my', 'own', 'vegan', 'food', 'business', 'and', 'with', 'that', 'impulsive', 'announcement', 'i', 'quit', 'my', 'job', 'almost', 'immediately', 'and', 'promised', 'myself', 'i', 'would', 'put', 'my', 'whole', 'heart', 'and', 'soul', 'in', 'to', 'becoming', 'the', 'best', 'vegan', 'chef', 'i', 'can', 'be', 'with', 'a', 'whole', 'lot', 'of', 'determination', 'passion', 'and', 'support', 'from', 'those', 'around', 'me', 'munchbox', 'was', 'born', 'and', 'is', 'now', 'my', 'baby', 'i', 'guess', 'a', 'little', 'bit', 'of', 'selfishness', 'for', 'me', 'to', 'have', 'passion', 'and', 'purpose', 'in', 'life', 'as', 'well', 'as', 'the', 'lack', 'of', 'real', 'quality', 'vegan', 'cuisine', 'on', 'the', 'geelong', 'food', 'scene', 'is', 'really', 'how', 'munchbox', 'came', 'to', 'be', 'out', 'of', 'necessity', 'where', 'did', 'your', 'passion', 'for', 'food', 'come', 'from', 'i', 've', 'always', 'had', 'a', 'love', 'and', 'passion', 'for', 'food', 'but', 'it', 'wasn', 't', 'until', 'i', 'slowly', 'transitioned', 'to', 'vegan', 'that', 'my', 'passion', 'turned', 'into', 'a', 'true', 'obsession', 'it', 'opened', 'a', 'whole', 'new', 'door', 'for', 'experimentation', 'in', 'the', 'kitchen', 'i', 'want', 'to', 'create', 'cruelty', 'free', 'food', 'that', 'tastes', 'and', 'looks', 'better', 'but', 'most', 'importantly', 'is', 'better', 'for', 'you', 'nothing', 'makes', 'me', 'happier', 'then', 'feeding', 'people', 'and', 'changing', 'their', 'views', 'on', 'vegan', 'food', 'can', 'you', 'give', 'our', 'readers', 'a', 'of', 'how', 'munchbox', 'works', 'munchbox', 'is', 'an', 'artisan', 'meal', 'prep', 'and', 'delivery', 'service', 'providing', 'chef', 'made', 'meals', 'to', 'you', 'our', 'munchers', 'can', 'order', 'online', 'any', 'time', 'before', 'friday', 'midnight', 'with', 'meals', 'being', 'ready', 'for', 'or', 'delivery', 'on', 'sunday', 'ready', 'for', 'the', 'week', 'ahead', 'these', 'hours', 'will', 'soon', 'be', 'changing', 'to', 'include', 'online', 'ordering', 'with', 'and', 'delivery', 'between', 'seven', 'days', 'a', 'week', 'all', 'meals', 'come', 'ready', 'to', 'eat', 'or', 'heat', 'those', 'that', 'are', 'best', 'enjoyed', 'heated', 'include', 'a', 'lit', 'flame', 'we', 'also', 'specialise', 'in', 'events', 'and', 'corporate', 'catering', 'so', 'if', 'there', 's', 'a', 'bunch', 'that', 's', 'got', 'the', 'munch', 'we', 're', 'here', 'to', 'feed', 'your', 'sweet', 'souls', 'where', 'have', 'you', 'gathered', 'most', 'of', 'your', 'recipes', 'and', 'ideas', 'from', 'i', 'm', 'constantly', 'gathering', 'ideas', 'and', 'inspiration', 'from', 'anywhere', 'and', 'everywhere', 'i', 'have', 'a', 'collection', 'of', 'paper', 'scraps', 'with', 'scribbled', 'recipes', 'and', 'sleep', 'with', 'a', 'notebook', 'next', 'to', 'my', 'bed', 'just', 'in', 'case', 'i', 'dream', 'up', 'a', 'new', 'idea', 'i', 'have', 'and', 'future', 'menu', 'lists', 'it', 's', 'a', 'mess', 'really', 'i', 'find', 'so', 'much', 'inspiration', 'and', 'ideas', 'from', 'traditional', 'meals', 'and', 'have', 'been', 'fortunate', 'enough', 'to', 'work', 'alongside', 'some', 'amazing', 'chefs', 'who', 'have', 'taught', 'and', 'inspired', 'me', 'incredibly', 'my', 'mumma', 'and', 'sister', 'who', 'are', 'huge', 'vegan', 'foodies', 'are', 'always', 'coming', 'up', 'with', 'insane', 'recipes', 'for', 'me', 'as', 'well', 'but', 'each', 'recipe', 'is', 'ultimately', 'my', 'own', 'made', 'from', 'scratch', 'tried', 'and', 'tested', 'until', 'it', 's', 'perfected', 'how', 'do', 'you', 'determine', 'what', 'local', 'and', 'organic', 'ingredients', 'make', 'the', 'cut', 'we', 'are', 'passionately', 'committed', 'to', 'sustainability', 'and', 'supporting', 'our', 'local', 'community', 'our', 'menus', 'are', 'always', 'based', 'around', 'the', 'freshest', 'seasonal', 'produce', 'sourced', 'from', 'local', 'organic', 'farmers', 'as', 'well', 'as', 'other', 'artisan', 'vegan', 'businesses', 'who', 'supply', 'some', 'of', 'our', 'ingredients', 'we', 'also', 'lovingly', 'grow', 'all', 'our', 'own', 'herbs', 'and', 'as', 'munchbox', 'expands', 'so', 'will', 'our', 'veggie', 'garden', 'to', 'include', 'some', 'pretty', 'crazy', 'exotic', 'fruit', 'and', 'vege', 'what', 'type', 'of', 'people', 'does', 'this', 'service', 'suit', 'munchbox', 'is', 'perfect', 'for', 'those', 'who', 'are', 'time', 'poor', 'but', 'hungry', 'and', 'care', 'what', 'they', 'put', 'in', 'to', 'their', 'body', 'looking', 'for', 'a', 'delicious', 'and', 'nutritious', 'meal', 'that', 'isn', 't', 'frozen', 'or', 'full', 'of', 'crap', 'we', 'put', 'all', 'the', 'freshness', 'flavour', 'love', 'and', 'care', 'into', 'each', 'meal', 'so', 'you', 'don', 't', 'have', 'to', 'breaky', 'lunch', 'or', 'tea', 'pick', 'up', 'or', 'delivery', 'we', 've', 'got', 'you', 'covered', 'so', 'you', 'don', 't', 'have', 'to', 'think', 'about', 'cooking', 'a', 'thing', 'munchbox', 'isn', 't', 'exclusively', 'for', 'vegetarians', 'or', 'vegans', 'but', 'is', 'perfect', 'for', 'those', 'looking', 'to', 'try', 'a', 'tasty', 'healthy', 'alternative', 'do', 'you', 'do', 'custom', 'orders', 'or', 'is', 'everything', 'off', 'the', 'set', 'menu', 'yes', 'all', 'our', 'meals', 'are', 'fully', 'customisable', 'to', 'suit', 'diet', 'and', 'taste', 'don', 't', 'like', 'tomato', 'just', 'let', 'us', 'know', 'gluten', 'intolerant', 'we', 'got', 'you', 'you', 'can', 'add', 'or', 'remove', 'any', 'ingredients', 'and', 'extras', 'in', 'our', 'meals', 'when', 'you', 'order', 'however', 'if', 'you', 'd', 'like', 'our', 'chefs', 'to', 'create', 'something', 'extra', 'special', 'just', 'for', 'you', 'we', 're', 'more', 'than', 'happy', 'to', 'we', 'can', 'customise', 'personalised', 'menus', 'meal', 'plans', 'and', 'munchboxes', 'just', 'for', 'you', 'where', 'are', 'you', 'hoping', 'to', 'take', 'munchbox', 'in', 'future', 'munchbox', 'has', 'big', 'plans', 'for', 'the', 'future', 'you', 'can', 'expect', 'an', 'menu', 'to', 'keep', 'up', 'with', 'my', 'mind', 'we', 'll', 'be', 'incorporating', 'menulog', 'and', 'uber', 'eats', 'as', 'apart', 'of', 'our', 'service', 'and', 'expanding', 'trading', 'hours', 'and', 'service', 'locations', 'in', 'the', 'very', 'near', 'future', 'there', 'may', 'also', 'be', 'plans', 'for', 'munch', 'mobile', 'to', 'attend', 'festivals', 'markets', 'and', 'events', 'but', 'i', 'can', 't', 'give', 'too', 'much', 'away', 'we', 'have', 'sooo', 'many', 'surprises', 'for', 'ya', 'll', 'but', 'i', 'can', 't', 'spoil', 'them', 'all', 'at', 'once', 'check', 'it', 'out', 'via', 'insta', 'or', 'you', 'can', 'get', 'your', 'munch', 'on', 'at']\n",
            "\n",
            "\n",
            "942\n"
          ]
        }
      ]
    },
    {
      "cell_type": "code",
      "metadata": {
        "id": "b3SqTkNedxYM",
        "colab": {
          "base_uri": "https://localhost:8080/"
        },
        "outputId": "45064c4b-55e1-4d6d-cb67-4ab93594284f"
      },
      "source": [
        "#Frequency distribution :\n",
        "fdist = FreqDist(words_no_punc)\n",
        "\n",
        "fdist.most_common(10)"
      ],
      "execution_count": 12,
      "outputs": [
        {
          "output_type": "execute_result",
          "data": {
            "text/plain": [
              "[('and', 48),\n",
              " ('to', 28),\n",
              " ('a', 22),\n",
              " ('for', 20),\n",
              " ('you', 19),\n",
              " ('i', 19),\n",
              " ('the', 17),\n",
              " ('munchbox', 14),\n",
              " ('of', 13),\n",
              " ('we', 12)]"
            ]
          },
          "metadata": {},
          "execution_count": 12
        }
      ]
    },
    {
      "cell_type": "code",
      "metadata": {
        "id": "kotl9nuTdyge",
        "colab": {
          "base_uri": "https://localhost:8080/",
          "height": 338
        },
        "outputId": "38fe9c28-e6ca-4714-a8b2-afeba589ce8f"
      },
      "source": [
        "#Plot the most common words on grpah:\n",
        "\n",
        "fdist.plot(10)"
      ],
      "execution_count": 13,
      "outputs": [
        {
          "output_type": "display_data",
          "data": {
            "text/plain": [
              "<Figure size 432x288 with 1 Axes>"
            ],
            "image/png": "[encoded data removed]"
          },
          "metadata": {
            "needs_background": "light"
          }
        },
        {
          "output_type": "execute_result",
          "data": {
            "text/plain": [
              "<matplotlib.axes._subplots.AxesSubplot at 0x7f38e6511090>"
            ]
          },
          "metadata": {},
          "execution_count": 13
        }
      ]
    },
    {
      "cell_type": "markdown",
      "source": [
        "`Now we see that our most common words have words like *and*, *to*, *for*, *you*, and other such words that do not give any info on the content being searched for. Such words are known as stopwords.`\n",
        "\n",
        "So we now try to get rid of these stopwords."
      ],
      "metadata": {
        "id": "iQRz9B5JCYpD"
      }
    },
    {
      "cell_type": "code",
      "metadata": {
        "id": "443sa0zKdzpd",
        "colab": {
          "base_uri": "https://localhost:8080/"
        },
        "outputId": "9fec8fce-b712-4635-8fdf-7a9d07579672"
      },
      "source": [
        "from nltk.corpus import stopwords\n",
        "\n",
        "#List of stopwords\n",
        "stopwords = stopwords.words(\"english\")\n",
        "print(stopwords)"
      ],
      "execution_count": 14,
      "outputs": [
        {
          "output_type": "stream",
          "name": "stdout",
          "text": [
            "['i', 'me', 'my', 'myself', 'we', 'our', 'ours', 'ourselves', 'you', \"you're\", \"you've\", \"you'll\", \"you'd\", 'your', 'yours', 'yourself', 'yourselves', 'he', 'him', 'his', 'himself', 'she', \"she's\", 'her', 'hers', 'herself', 'it', \"it's\", 'its', 'itself', 'they', 'them', 'their', 'theirs', 'themselves', 'what', 'which', 'who', 'whom', 'this', 'that', \"that'll\", 'these', 'those', 'am', 'is', 'are', 'was', 'were', 'be', 'been', 'being', 'have', 'has', 'had', 'having', 'do', 'does', 'did', 'doing', 'a', 'an', 'the', 'and', 'but', 'if', 'or', 'because', 'as', 'until', 'while', 'of', 'at', 'by', 'for', 'with', 'about', 'against', 'between', 'into', 'through', 'during', 'before', 'after', 'above', 'below', 'to', 'from', 'up', 'down', 'in', 'out', 'on', 'off', 'over', 'under', 'again', 'further', 'then', 'once', 'here', 'there', 'when', 'where', 'why', 'how', 'all', 'any', 'both', 'each', 'few', 'more', 'most', 'other', 'some', 'such', 'no', 'nor', 'not', 'only', 'own', 'same', 'so', 'than', 'too', 'very', 's', 't', 'can', 'will', 'just', 'don', \"don't\", 'should', \"should've\", 'now', 'd', 'll', 'm', 'o', 're', 've', 'y', 'ain', 'aren', \"aren't\", 'couldn', \"couldn't\", 'didn', \"didn't\", 'doesn', \"doesn't\", 'hadn', \"hadn't\", 'hasn', \"hasn't\", 'haven', \"haven't\", 'isn', \"isn't\", 'ma', 'mightn', \"mightn't\", 'mustn', \"mustn't\", 'needn', \"needn't\", 'shan', \"shan't\", 'shouldn', \"shouldn't\", 'wasn', \"wasn't\", 'weren', \"weren't\", 'won', \"won't\", 'wouldn', \"wouldn't\"]\n"
          ]
        }
      ]
    },
    {
      "cell_type": "code",
      "metadata": {
        "id": "JaRf2eeYd1Zt",
        "colab": {
          "base_uri": "https://localhost:8080/"
        },
        "outputId": "dee4a391-9280-4e58-be0e-c4cfb65348c9"
      },
      "source": [
        "clean_words = []  #Empty list to store clean words :\n",
        "\n",
        "for w in words_no_punc:\n",
        "    if w not in stopwords:\n",
        "        clean_words.append(w)\n",
        "        \n",
        "print(clean_words)\n",
        "print(\"\\n\")\n",
        "print(len(clean_words))"
      ],
      "execution_count": 15,
      "outputs": [
        {
          "output_type": "stream",
          "name": "stdout",
          "text": [
            "['meals', 'munchbox', 'boutique', 'meal', 'prep', 'delivery', 'service', 'specialising', 'artisan', 'vegan', 'vegetarian', 'meals', 'munchies', 'passion', 'providing', 'delicious', 'nutritious', 'food', 'ethical', 'sustainable', 'affordable', 'munchbox', 'meals', 'made', 'scratch', 'using', 'balance', 'freshest', 'local', 'organic', 'vegetables', 'fruit', 'grains', 'seeds', 'nuts', 'homegrown', 'herbs', 'chat', 'eden', 'callick', 'brains', 'behind', 'business', 'things', 'munchbox', 'hey', 'thanks', 'chatting', 'forte', 'first', 'explain', 'munchbox', 'became', 'munchbox', 'daydream', 'turned', 'reality', 'really', 'draining', 'job', 'hated', 'would', 'spend', 'majority', 'looking', 'vegan', 'food', 'struggle', 'find', 'tasty', 'good', 'quality', 'vegan', 'meal', 'real', 'sometimes', 'real', 'give', 'looking', 'go', 'hungry', 'one', 'day', 'hungrily', 'jokingly', 'announced', 'going', 'open', 'vegan', 'food', 'business', 'impulsive', 'announcement', 'quit', 'job', 'almost', 'immediately', 'promised', 'would', 'put', 'whole', 'heart', 'soul', 'becoming', 'best', 'vegan', 'chef', 'whole', 'lot', 'determination', 'passion', 'support', 'around', 'munchbox', 'born', 'baby', 'guess', 'little', 'bit', 'selfishness', 'passion', 'purpose', 'life', 'well', 'lack', 'real', 'quality', 'vegan', 'cuisine', 'geelong', 'food', 'scene', 'really', 'munchbox', 'came', 'necessity', 'passion', 'food', 'come', 'always', 'love', 'passion', 'food', 'slowly', 'transitioned', 'vegan', 'passion', 'turned', 'true', 'obsession', 'opened', 'whole', 'new', 'door', 'experimentation', 'kitchen', 'want', 'create', 'cruelty', 'free', 'food', 'tastes', 'looks', 'better', 'importantly', 'better', 'nothing', 'makes', 'happier', 'feeding', 'people', 'changing', 'views', 'vegan', 'food', 'give', 'readers', 'munchbox', 'works', 'munchbox', 'artisan', 'meal', 'prep', 'delivery', 'service', 'providing', 'chef', 'made', 'meals', 'munchers', 'order', 'online', 'time', 'friday', 'midnight', 'meals', 'ready', 'delivery', 'sunday', 'ready', 'week', 'ahead', 'hours', 'soon', 'changing', 'include', 'online', 'ordering', 'delivery', 'seven', 'days', 'week', 'meals', 'come', 'ready', 'eat', 'heat', 'best', 'enjoyed', 'heated', 'include', 'lit', 'flame', 'also', 'specialise', 'events', 'corporate', 'catering', 'bunch', 'got', 'munch', 'feed', 'sweet', 'souls', 'gathered', 'recipes', 'ideas', 'constantly', 'gathering', 'ideas', 'inspiration', 'anywhere', 'everywhere', 'collection', 'paper', 'scraps', 'scribbled', 'recipes', 'sleep', 'notebook', 'next', 'bed', 'case', 'dream', 'new', 'idea', 'future', 'menu', 'lists', 'mess', 'really', 'find', 'much', 'inspiration', 'ideas', 'traditional', 'meals', 'fortunate', 'enough', 'work', 'alongside', 'amazing', 'chefs', 'taught', 'inspired', 'incredibly', 'mumma', 'sister', 'huge', 'vegan', 'foodies', 'always', 'coming', 'insane', 'recipes', 'well', 'recipe', 'ultimately', 'made', 'scratch', 'tried', 'tested', 'perfected', 'determine', 'local', 'organic', 'ingredients', 'make', 'cut', 'passionately', 'committed', 'sustainability', 'supporting', 'local', 'community', 'menus', 'always', 'based', 'around', 'freshest', 'seasonal', 'produce', 'sourced', 'local', 'organic', 'farmers', 'well', 'artisan', 'vegan', 'businesses', 'supply', 'ingredients', 'also', 'lovingly', 'grow', 'herbs', 'munchbox', 'expands', 'veggie', 'garden', 'include', 'pretty', 'crazy', 'exotic', 'fruit', 'vege', 'type', 'people', 'service', 'suit', 'munchbox', 'perfect', 'time', 'poor', 'hungry', 'care', 'put', 'body', 'looking', 'delicious', 'nutritious', 'meal', 'frozen', 'full', 'crap', 'put', 'freshness', 'flavour', 'love', 'care', 'meal', 'breaky', 'lunch', 'tea', 'pick', 'delivery', 'got', 'covered', 'think', 'cooking', 'thing', 'munchbox', 'exclusively', 'vegetarians', 'vegans', 'perfect', 'looking', 'try', 'tasty', 'healthy', 'alternative', 'custom', 'orders', 'everything', 'set', 'menu', 'yes', 'meals', 'fully', 'customisable', 'suit', 'diet', 'taste', 'like', 'tomato', 'let', 'us', 'know', 'gluten', 'intolerant', 'got', 'add', 'remove', 'ingredients', 'extras', 'meals', 'order', 'however', 'like', 'chefs', 'create', 'something', 'extra', 'special', 'happy', 'customise', 'personalised', 'menus', 'meal', 'plans', 'munchboxes', 'hoping', 'take', 'munchbox', 'future', 'munchbox', 'big', 'plans', 'future', 'expect', 'menu', 'keep', 'mind', 'incorporating', 'menulog', 'uber', 'eats', 'apart', 'service', 'expanding', 'trading', 'hours', 'service', 'locations', 'near', 'future', 'may', 'also', 'plans', 'munch', 'mobile', 'attend', 'festivals', 'markets', 'events', 'give', 'much', 'away', 'sooo', 'many', 'surprises', 'ya', 'spoil', 'check', 'via', 'insta', 'get', 'munch']\n",
            "\n",
            "\n",
            "468\n"
          ]
        }
      ]
    },
    {
      "cell_type": "code",
      "metadata": {
        "id": "GX7Z3fmEd2hF",
        "colab": {
          "base_uri": "https://localhost:8080/"
        },
        "outputId": "6773851c-6efa-4291-9d20-934a037d3cef"
      },
      "source": [
        "#Frequency distribution :\n",
        "fdist = FreqDist(clean_words)\n",
        "\n",
        "fdist.most_common(10)\n"
      ],
      "execution_count": 16,
      "outputs": [
        {
          "output_type": "execute_result",
          "data": {
            "text/plain": [
              "[('munchbox', 14),\n",
              " ('vegan', 10),\n",
              " ('meals', 9),\n",
              " ('food', 8),\n",
              " ('meal', 6),\n",
              " ('passion', 6),\n",
              " ('delivery', 5),\n",
              " ('service', 5),\n",
              " ('local', 4),\n",
              " ('looking', 4)]"
            ]
          },
          "metadata": {},
          "execution_count": 16
        }
      ]
    },
    {
      "cell_type": "code",
      "metadata": {
        "id": "_9bes0f_d3dv",
        "colab": {
          "base_uri": "https://localhost:8080/",
          "height": 338
        },
        "outputId": "0fcf5290-87a7-4867-ccba-64d3c5e068a4"
      },
      "source": [
        "#Plot the most common words on grpah:\n",
        "\n",
        "fdist.plot(10)"
      ],
      "execution_count": 17,
      "outputs": [
        {
          "output_type": "display_data",
          "data": {
            "text/plain": [
              "<Figure size 432x288 with 1 Axes>"
            ],
            "image/png": "[encoded data removed]"
          },
          "metadata": {
            "needs_background": "light"
          }
        },
        {
          "output_type": "execute_result",
          "data": {
            "text/plain": [
              "<matplotlib.axes._subplots.AxesSubplot at 0x7f38e6494690>"
            ]
          },
          "metadata": {},
          "execution_count": 17
        }
      ]
    },
    {
      "cell_type": "markdown",
      "source": [
        "Just to give a creative look for the words that have been identified as keywords from the article, I am now gonna form a wordcloud which has a stylish outlook to the words found in the article. 🔶"
      ],
      "metadata": {
        "id": "zruGIpxaC8e4"
      }
    },
    {
      "cell_type": "code",
      "metadata": {
        "id": "WGptyQEDd44c",
        "colab": {
          "base_uri": "https://localhost:8080/",
          "height": 366
        },
        "outputId": "86e603ff-dd20-424b-8472-c0a2c53eb827"
      },
      "source": [
        "#Library to form wordcloud :\n",
        "from wordcloud import WordCloud\n",
        "\n",
        "#Library to plot the wordcloud :\n",
        "import matplotlib.pyplot as plt\n",
        "\n",
        "#Generating the wordcloud :\n",
        "wordcloud = WordCloud().generate(text)\n",
        "\n",
        "#Plot the wordcloud :\n",
        "plt.figure(figsize = (12, 12)) \n",
        "plt.imshow(wordcloud) \n",
        "\n",
        "#To remove the axis value :\n",
        "plt.axis(\"off\") \n",
        "plt.show()"
      ],
      "execution_count": 18,
      "outputs": [
        {
          "output_type": "display_data",
          "data": {
            "text/plain": [
              "<Figure size 864x864 with 1 Axes>"
            ],
            "image/png": "[encoded data removed]"
          },
          "metadata": {
            "needs_background": "light"
          }
        }
      ]
    },
    {
      "cell_type": "markdown",
      "source": [
        "###Method 1\n",
        "In this method, we shall print the recommendation list from the list of ingredients taking into consideration the frequency of the different words used in the article, with ingredients matching the most frequent word coming at the top and then descending order from there."
      ],
      "metadata": {
        "id": "8eDcjdjCrlPc"
      }
    },
    {
      "cell_type": "code",
      "source": [
        "# Here I am checking the occurences of each word in the article with their frequency.\n",
        "freqarray=fdist.most_common()\n",
        "for i in range(len(freqarray)):\n",
        "  print(freqarray[i])"
      ],
      "metadata": {
        "colab": {
          "base_uri": "https://localhost:8080/"
        },
        "id": "HyqqmickZ98a",
        "outputId": "3809c285-5396-43a1-d425-92039c2479ac"
      },
      "execution_count": 19,
      "outputs": [
        {
          "output_type": "stream",
          "name": "stdout",
          "text": [
            "('munchbox', 14)\n",
            "('vegan', 10)\n",
            "('meals', 9)\n",
            "('food', 8)\n",
            "('meal', 6)\n",
            "('passion', 6)\n",
            "('delivery', 5)\n",
            "('service', 5)\n",
            "('local', 4)\n",
            "('looking', 4)\n",
            "('future', 4)\n",
            "('artisan', 3)\n",
            "('made', 3)\n",
            "('organic', 3)\n",
            "('really', 3)\n",
            "('real', 3)\n",
            "('give', 3)\n",
            "('put', 3)\n",
            "('whole', 3)\n",
            "('well', 3)\n",
            "('always', 3)\n",
            "('ready', 3)\n",
            "('include', 3)\n",
            "('also', 3)\n",
            "('got', 3)\n",
            "('munch', 3)\n",
            "('recipes', 3)\n",
            "('ideas', 3)\n",
            "('menu', 3)\n",
            "('ingredients', 3)\n",
            "('plans', 3)\n",
            "('prep', 2)\n",
            "('providing', 2)\n",
            "('delicious', 2)\n",
            "('nutritious', 2)\n",
            "('scratch', 2)\n",
            "('freshest', 2)\n",
            "('fruit', 2)\n",
            "('herbs', 2)\n",
            "('business', 2)\n",
            "('turned', 2)\n",
            "('job', 2)\n",
            "('would', 2)\n",
            "('find', 2)\n",
            "('tasty', 2)\n",
            "('quality', 2)\n",
            "('hungry', 2)\n",
            "('best', 2)\n",
            "('chef', 2)\n",
            "('around', 2)\n",
            "('come', 2)\n",
            "('love', 2)\n",
            "('new', 2)\n",
            "('create', 2)\n",
            "('better', 2)\n",
            "('people', 2)\n",
            "('changing', 2)\n",
            "('order', 2)\n",
            "('online', 2)\n",
            "('time', 2)\n",
            "('week', 2)\n",
            "('hours', 2)\n",
            "('events', 2)\n",
            "('inspiration', 2)\n",
            "('much', 2)\n",
            "('chefs', 2)\n",
            "('menus', 2)\n",
            "('suit', 2)\n",
            "('perfect', 2)\n",
            "('care', 2)\n",
            "('like', 2)\n",
            "('boutique', 1)\n",
            "('specialising', 1)\n",
            "('vegetarian', 1)\n",
            "('munchies', 1)\n",
            "('ethical', 1)\n",
            "('sustainable', 1)\n",
            "('affordable', 1)\n",
            "('using', 1)\n",
            "('balance', 1)\n",
            "('vegetables', 1)\n",
            "('grains', 1)\n",
            "('seeds', 1)\n",
            "('nuts', 1)\n",
            "('homegrown', 1)\n",
            "('chat', 1)\n",
            "('eden', 1)\n",
            "('callick', 1)\n",
            "('brains', 1)\n",
            "('behind', 1)\n",
            "('things', 1)\n",
            "('hey', 1)\n",
            "('thanks', 1)\n",
            "('chatting', 1)\n",
            "('forte', 1)\n",
            "('first', 1)\n",
            "('explain', 1)\n",
            "('became', 1)\n",
            "('daydream', 1)\n",
            "('reality', 1)\n",
            "('draining', 1)\n",
            "('hated', 1)\n",
            "('spend', 1)\n",
            "('majority', 1)\n",
            "('struggle', 1)\n",
            "('good', 1)\n",
            "('sometimes', 1)\n",
            "('go', 1)\n",
            "('one', 1)\n",
            "('day', 1)\n",
            "('hungrily', 1)\n",
            "('jokingly', 1)\n",
            "('announced', 1)\n",
            "('going', 1)\n",
            "('open', 1)\n",
            "('impulsive', 1)\n",
            "('announcement', 1)\n",
            "('quit', 1)\n",
            "('almost', 1)\n",
            "('immediately', 1)\n",
            "('promised', 1)\n",
            "('heart', 1)\n",
            "('soul', 1)\n",
            "('becoming', 1)\n",
            "('lot', 1)\n",
            "('determination', 1)\n",
            "('support', 1)\n",
            "('born', 1)\n",
            "('baby', 1)\n",
            "('guess', 1)\n",
            "('little', 1)\n",
            "('bit', 1)\n",
            "('selfishness', 1)\n",
            "('purpose', 1)\n",
            "('life', 1)\n",
            "('lack', 1)\n",
            "('cuisine', 1)\n",
            "('geelong', 1)\n",
            "('scene', 1)\n",
            "('came', 1)\n",
            "('necessity', 1)\n",
            "('slowly', 1)\n",
            "('transitioned', 1)\n",
            "('true', 1)\n",
            "('obsession', 1)\n",
            "('opened', 1)\n",
            "('door', 1)\n",
            "('experimentation', 1)\n",
            "('kitchen', 1)\n",
            "('want', 1)\n",
            "('cruelty', 1)\n",
            "('free', 1)\n",
            "('tastes', 1)\n",
            "('looks', 1)\n",
            "('importantly', 1)\n",
            "('nothing', 1)\n",
            "('makes', 1)\n",
            "('happier', 1)\n",
            "('feeding', 1)\n",
            "('views', 1)\n",
            "('readers', 1)\n",
            "('works', 1)\n",
            "('munchers', 1)\n",
            "('friday', 1)\n",
            "('midnight', 1)\n",
            "('sunday', 1)\n",
            "('ahead', 1)\n",
            "('soon', 1)\n",
            "('ordering', 1)\n",
            "('seven', 1)\n",
            "('days', 1)\n",
            "('eat', 1)\n",
            "('heat', 1)\n",
            "('enjoyed', 1)\n",
            "('heated', 1)\n",
            "('lit', 1)\n",
            "('flame', 1)\n",
            "('specialise', 1)\n",
            "('corporate', 1)\n",
            "('catering', 1)\n",
            "('bunch', 1)\n",
            "('feed', 1)\n",
            "('sweet', 1)\n",
            "('souls', 1)\n",
            "('gathered', 1)\n",
            "('constantly', 1)\n",
            "('gathering', 1)\n",
            "('anywhere', 1)\n",
            "('everywhere', 1)\n",
            "('collection', 1)\n",
            "('paper', 1)\n",
            "('scraps', 1)\n",
            "('scribbled', 1)\n",
            "('sleep', 1)\n",
            "('notebook', 1)\n",
            "('next', 1)\n",
            "('bed', 1)\n",
            "('case', 1)\n",
            "('dream', 1)\n",
            "('idea', 1)\n",
            "('lists', 1)\n",
            "('mess', 1)\n",
            "('traditional', 1)\n",
            "('fortunate', 1)\n",
            "('enough', 1)\n",
            "('work', 1)\n",
            "('alongside', 1)\n",
            "('amazing', 1)\n",
            "('taught', 1)\n",
            "('inspired', 1)\n",
            "('incredibly', 1)\n",
            "('mumma', 1)\n",
            "('sister', 1)\n",
            "('huge', 1)\n",
            "('foodies', 1)\n",
            "('coming', 1)\n",
            "('insane', 1)\n",
            "('recipe', 1)\n",
            "('ultimately', 1)\n",
            "('tried', 1)\n",
            "('tested', 1)\n",
            "('perfected', 1)\n",
            "('determine', 1)\n",
            "('make', 1)\n",
            "('cut', 1)\n",
            "('passionately', 1)\n",
            "('committed', 1)\n",
            "('sustainability', 1)\n",
            "('supporting', 1)\n",
            "('community', 1)\n",
            "('based', 1)\n",
            "('seasonal', 1)\n",
            "('produce', 1)\n",
            "('sourced', 1)\n",
            "('farmers', 1)\n",
            "('businesses', 1)\n",
            "('supply', 1)\n",
            "('lovingly', 1)\n",
            "('grow', 1)\n",
            "('expands', 1)\n",
            "('veggie', 1)\n",
            "('garden', 1)\n",
            "('pretty', 1)\n",
            "('crazy', 1)\n",
            "('exotic', 1)\n",
            "('vege', 1)\n",
            "('type', 1)\n",
            "('poor', 1)\n",
            "('body', 1)\n",
            "('frozen', 1)\n",
            "('full', 1)\n",
            "('crap', 1)\n",
            "('freshness', 1)\n",
            "('flavour', 1)\n",
            "('breaky', 1)\n",
            "('lunch', 1)\n",
            "('tea', 1)\n",
            "('pick', 1)\n",
            "('covered', 1)\n",
            "('think', 1)\n",
            "('cooking', 1)\n",
            "('thing', 1)\n",
            "('exclusively', 1)\n",
            "('vegetarians', 1)\n",
            "('vegans', 1)\n",
            "('try', 1)\n",
            "('healthy', 1)\n",
            "('alternative', 1)\n",
            "('custom', 1)\n",
            "('orders', 1)\n",
            "('everything', 1)\n",
            "('set', 1)\n",
            "('yes', 1)\n",
            "('fully', 1)\n",
            "('customisable', 1)\n",
            "('diet', 1)\n",
            "('taste', 1)\n",
            "('tomato', 1)\n",
            "('let', 1)\n",
            "('us', 1)\n",
            "('know', 1)\n",
            "('gluten', 1)\n",
            "('intolerant', 1)\n",
            "('add', 1)\n",
            "('remove', 1)\n",
            "('extras', 1)\n",
            "('however', 1)\n",
            "('something', 1)\n",
            "('extra', 1)\n",
            "('special', 1)\n",
            "('happy', 1)\n",
            "('customise', 1)\n",
            "('personalised', 1)\n",
            "('munchboxes', 1)\n",
            "('hoping', 1)\n",
            "('take', 1)\n",
            "('big', 1)\n",
            "('expect', 1)\n",
            "('keep', 1)\n",
            "('mind', 1)\n",
            "('incorporating', 1)\n",
            "('menulog', 1)\n",
            "('uber', 1)\n",
            "('eats', 1)\n",
            "('apart', 1)\n",
            "('expanding', 1)\n",
            "('trading', 1)\n",
            "('locations', 1)\n",
            "('near', 1)\n",
            "('may', 1)\n",
            "('mobile', 1)\n",
            "('attend', 1)\n",
            "('festivals', 1)\n",
            "('markets', 1)\n",
            "('away', 1)\n",
            "('sooo', 1)\n",
            "('many', 1)\n",
            "('surprises', 1)\n",
            "('ya', 1)\n",
            "('spoil', 1)\n",
            "('check', 1)\n",
            "('via', 1)\n",
            "('insta', 1)\n",
            "('get', 1)\n"
          ]
        }
      ]
    },
    {
      "cell_type": "code",
      "source": [
        "# Here I am just taking the words in the article in the order of their frequency right from most frequency till the least.\n",
        "print(type(freqarray))\n",
        "for i in range(len(freqarray)):\n",
        "  print(freqarray[i][0])"
      ],
      "metadata": {
        "colab": {
          "base_uri": "https://localhost:8080/"
        },
        "id": "Qmr9_jrfw73_",
        "outputId": "77efed5d-30d3-4999-8d23-70a846df5d24"
      },
      "execution_count": 20,
      "outputs": [
        {
          "output_type": "stream",
          "name": "stdout",
          "text": [
            "<class 'list'>\n",
            "munchbox\n",
            "vegan\n",
            "meals\n",
            "food\n",
            "meal\n",
            "passion\n",
            "delivery\n",
            "service\n",
            "local\n",
            "looking\n",
            "future\n",
            "artisan\n",
            "made\n",
            "organic\n",
            "really\n",
            "real\n",
            "give\n",
            "put\n",
            "whole\n",
            "well\n",
            "always\n",
            "ready\n",
            "include\n",
            "also\n",
            "got\n",
            "munch\n",
            "recipes\n",
            "ideas\n",
            "menu\n",
            "ingredients\n",
            "plans\n",
            "prep\n",
            "providing\n",
            "delicious\n",
            "nutritious\n",
            "scratch\n",
            "freshest\n",
            "fruit\n",
            "herbs\n",
            "business\n",
            "turned\n",
            "job\n",
            "would\n",
            "find\n",
            "tasty\n",
            "quality\n",
            "hungry\n",
            "best\n",
            "chef\n",
            "around\n",
            "come\n",
            "love\n",
            "new\n",
            "create\n",
            "better\n",
            "people\n",
            "changing\n",
            "order\n",
            "online\n",
            "time\n",
            "week\n",
            "hours\n",
            "events\n",
            "inspiration\n",
            "much\n",
            "chefs\n",
            "menus\n",
            "suit\n",
            "perfect\n",
            "care\n",
            "like\n",
            "boutique\n",
            "specialising\n",
            "vegetarian\n",
            "munchies\n",
            "ethical\n",
            "sustainable\n",
            "affordable\n",
            "using\n",
            "balance\n",
            "vegetables\n",
            "grains\n",
            "seeds\n",
            "nuts\n",
            "homegrown\n",
            "chat\n",
            "eden\n",
            "callick\n",
            "brains\n",
            "behind\n",
            "things\n",
            "hey\n",
            "thanks\n",
            "chatting\n",
            "forte\n",
            "first\n",
            "explain\n",
            "became\n",
            "daydream\n",
            "reality\n",
            "draining\n",
            "hated\n",
            "spend\n",
            "majority\n",
            "struggle\n",
            "good\n",
            "sometimes\n",
            "go\n",
            "one\n",
            "day\n",
            "hungrily\n",
            "jokingly\n",
            "announced\n",
            "going\n",
            "open\n",
            "impulsive\n",
            "announcement\n",
            "quit\n",
            "almost\n",
            "immediately\n",
            "promised\n",
            "heart\n",
            "soul\n",
            "becoming\n",
            "lot\n",
            "determination\n",
            "support\n",
            "born\n",
            "baby\n",
            "guess\n",
            "little\n",
            "bit\n",
            "selfishness\n",
            "purpose\n",
            "life\n",
            "lack\n",
            "cuisine\n",
            "geelong\n",
            "scene\n",
            "came\n",
            "necessity\n",
            "slowly\n",
            "transitioned\n",
            "true\n",
            "obsession\n",
            "opened\n",
            "door\n",
            "experimentation\n",
            "kitchen\n",
            "want\n",
            "cruelty\n",
            "free\n",
            "tastes\n",
            "looks\n",
            "importantly\n",
            "nothing\n",
            "makes\n",
            "happier\n",
            "feeding\n",
            "views\n",
            "readers\n",
            "works\n",
            "munchers\n",
            "friday\n",
            "midnight\n",
            "sunday\n",
            "ahead\n",
            "soon\n",
            "ordering\n",
            "seven\n",
            "days\n",
            "eat\n",
            "heat\n",
            "enjoyed\n",
            "heated\n",
            "lit\n",
            "flame\n",
            "specialise\n",
            "corporate\n",
            "catering\n",
            "bunch\n",
            "feed\n",
            "sweet\n",
            "souls\n",
            "gathered\n",
            "constantly\n",
            "gathering\n",
            "anywhere\n",
            "everywhere\n",
            "collection\n",
            "paper\n",
            "scraps\n",
            "scribbled\n",
            "sleep\n",
            "notebook\n",
            "next\n",
            "bed\n",
            "case\n",
            "dream\n",
            "idea\n",
            "lists\n",
            "mess\n",
            "traditional\n",
            "fortunate\n",
            "enough\n",
            "work\n",
            "alongside\n",
            "amazing\n",
            "taught\n",
            "inspired\n",
            "incredibly\n",
            "mumma\n",
            "sister\n",
            "huge\n",
            "foodies\n",
            "coming\n",
            "insane\n",
            "recipe\n",
            "ultimately\n",
            "tried\n",
            "tested\n",
            "perfected\n",
            "determine\n",
            "make\n",
            "cut\n",
            "passionately\n",
            "committed\n",
            "sustainability\n",
            "supporting\n",
            "community\n",
            "based\n",
            "seasonal\n",
            "produce\n",
            "sourced\n",
            "farmers\n",
            "businesses\n",
            "supply\n",
            "lovingly\n",
            "grow\n",
            "expands\n",
            "veggie\n",
            "garden\n",
            "pretty\n",
            "crazy\n",
            "exotic\n",
            "vege\n",
            "type\n",
            "poor\n",
            "body\n",
            "frozen\n",
            "full\n",
            "crap\n",
            "freshness\n",
            "flavour\n",
            "breaky\n",
            "lunch\n",
            "tea\n",
            "pick\n",
            "covered\n",
            "think\n",
            "cooking\n",
            "thing\n",
            "exclusively\n",
            "vegetarians\n",
            "vegans\n",
            "try\n",
            "healthy\n",
            "alternative\n",
            "custom\n",
            "orders\n",
            "everything\n",
            "set\n",
            "yes\n",
            "fully\n",
            "customisable\n",
            "diet\n",
            "taste\n",
            "tomato\n",
            "let\n",
            "us\n",
            "know\n",
            "gluten\n",
            "intolerant\n",
            "add\n",
            "remove\n",
            "extras\n",
            "however\n",
            "something\n",
            "extra\n",
            "special\n",
            "happy\n",
            "customise\n",
            "personalised\n",
            "munchboxes\n",
            "hoping\n",
            "take\n",
            "big\n",
            "expect\n",
            "keep\n",
            "mind\n",
            "incorporating\n",
            "menulog\n",
            "uber\n",
            "eats\n",
            "apart\n",
            "expanding\n",
            "trading\n",
            "locations\n",
            "near\n",
            "may\n",
            "mobile\n",
            "attend\n",
            "festivals\n",
            "markets\n",
            "away\n",
            "sooo\n",
            "many\n",
            "surprises\n",
            "ya\n",
            "spoil\n",
            "check\n",
            "via\n",
            "insta\n",
            "get\n"
          ]
        }
      ]
    },
    {
      "cell_type": "code",
      "source": [
        "# This res is storing the search recommendations in the order of most frequently obtained words in the \n",
        "# article. In this method, the article is read through as a whole, and based on whichever words were found to be \n",
        "# more frequent, the ingredients corresponding those are displayed higher in the query search.\n",
        "# So here we print the order of ingredients taking into consideration, the relative frequency of occurence of each\n",
        "# word, as our top priority.\n",
        "res=[]   \n",
        "for i in range(len(freqarray)):\n",
        "  for j in range(len(ingr)):\n",
        "    if(freqarray[i][0] in ingr[j]):\n",
        "      res.append(ingredient[j])\n",
        "for k in range(len(res)):\n",
        "  print(res[k])"
      ],
      "metadata": {
        "colab": {
          "base_uri": "https://localhost:8080/"
        },
        "id": "l1qdQffsbY_R",
        "outputId": "2ff7670c-8411-486b-dfae-07db9ae3c52e"
      },
      "execution_count": 21,
      "outputs": [
        {
          "output_type": "stream",
          "name": "stdout",
          "text": [
            "Vegan Carob Chips\n",
            "Vegan Chicken Strips\n",
            "Vegan Chorizo\n",
            "Vegan Marshmallow\n",
            "Vegan Puff Pastry Sheet\n",
            "Vegan Semisweet Chocolate Chips\n",
            "Vegan White Cake\n",
            "Chia Meal\n",
            "Organic Maize\n",
            "Organic Peruvian Groundcherry\n",
            "Organic Tartar Cream\n",
            "Mccormick Montreal Steak Seasoning\n",
            "Munch Chocolate\n",
            "Mango\n",
            "Baby Abalone\n",
            "Baby Abalone\n",
            "Vegan Semisweet Chocolate Chips\n",
            "Vegetable Stock\n",
            "Mccormick Montreal Steak Seasoning\n",
            "Pickled Cauliflower\n",
            "Vegan Puff Pastry Sheet\n",
            "Campari Tomato\n",
            "Tomato\n",
            "Smokies Sausage\n",
            "Orange Extract\n",
            "Organic Peruvian Groundcherry\n",
            "Vegetable Stock\n"
          ]
        }
      ]
    },
    {
      "cell_type": "code",
      "source": [
        "with open(\"Output1.txt\", \"w\") as output:\n",
        "    output.write(str(res))"
      ],
      "metadata": {
        "id": "SG4IXGwLtpYG"
      },
      "execution_count": 22,
      "outputs": []
    },
    {
      "cell_type": "markdown",
      "source": [
        "###Method 2\n",
        "In this method, we shall print the recommnedation list from the list of ingredients taking into consideration the chronological order of words entered in the article. The ingredients matching the words entered first shall be appearing at the top and it follows throughout the article."
      ],
      "metadata": {
        "id": "6Oeb2mgKs8Qf"
      }
    },
    {
      "cell_type": "code",
      "source": [
        "clean=clean_words\n",
        "print(clean)"
      ],
      "metadata": {
        "colab": {
          "base_uri": "https://localhost:8080/"
        },
        "id": "ayI42KSuuYu7",
        "outputId": "e2d30cc6-f39a-453a-87cd-aee26c925121"
      },
      "execution_count": 23,
      "outputs": [
        {
          "output_type": "stream",
          "name": "stdout",
          "text": [
            "['meals', 'munchbox', 'boutique', 'meal', 'prep', 'delivery', 'service', 'specialising', 'artisan', 'vegan', 'vegetarian', 'meals', 'munchies', 'passion', 'providing', 'delicious', 'nutritious', 'food', 'ethical', 'sustainable', 'affordable', 'munchbox', 'meals', 'made', 'scratch', 'using', 'balance', 'freshest', 'local', 'organic', 'vegetables', 'fruit', 'grains', 'seeds', 'nuts', 'homegrown', 'herbs', 'chat', 'eden', 'callick', 'brains', 'behind', 'business', 'things', 'munchbox', 'hey', 'thanks', 'chatting', 'forte', 'first', 'explain', 'munchbox', 'became', 'munchbox', 'daydream', 'turned', 'reality', 'really', 'draining', 'job', 'hated', 'would', 'spend', 'majority', 'looking', 'vegan', 'food', 'struggle', 'find', 'tasty', 'good', 'quality', 'vegan', 'meal', 'real', 'sometimes', 'real', 'give', 'looking', 'go', 'hungry', 'one', 'day', 'hungrily', 'jokingly', 'announced', 'going', 'open', 'vegan', 'food', 'business', 'impulsive', 'announcement', 'quit', 'job', 'almost', 'immediately', 'promised', 'would', 'put', 'whole', 'heart', 'soul', 'becoming', 'best', 'vegan', 'chef', 'whole', 'lot', 'determination', 'passion', 'support', 'around', 'munchbox', 'born', 'baby', 'guess', 'little', 'bit', 'selfishness', 'passion', 'purpose', 'life', 'well', 'lack', 'real', 'quality', 'vegan', 'cuisine', 'geelong', 'food', 'scene', 'really', 'munchbox', 'came', 'necessity', 'passion', 'food', 'come', 'always', 'love', 'passion', 'food', 'slowly', 'transitioned', 'vegan', 'passion', 'turned', 'true', 'obsession', 'opened', 'whole', 'new', 'door', 'experimentation', 'kitchen', 'want', 'create', 'cruelty', 'free', 'food', 'tastes', 'looks', 'better', 'importantly', 'better', 'nothing', 'makes', 'happier', 'feeding', 'people', 'changing', 'views', 'vegan', 'food', 'give', 'readers', 'munchbox', 'works', 'munchbox', 'artisan', 'meal', 'prep', 'delivery', 'service', 'providing', 'chef', 'made', 'meals', 'munchers', 'order', 'online', 'time', 'friday', 'midnight', 'meals', 'ready', 'delivery', 'sunday', 'ready', 'week', 'ahead', 'hours', 'soon', 'changing', 'include', 'online', 'ordering', 'delivery', 'seven', 'days', 'week', 'meals', 'come', 'ready', 'eat', 'heat', 'best', 'enjoyed', 'heated', 'include', 'lit', 'flame', 'also', 'specialise', 'events', 'corporate', 'catering', 'bunch', 'got', 'munch', 'feed', 'sweet', 'souls', 'gathered', 'recipes', 'ideas', 'constantly', 'gathering', 'ideas', 'inspiration', 'anywhere', 'everywhere', 'collection', 'paper', 'scraps', 'scribbled', 'recipes', 'sleep', 'notebook', 'next', 'bed', 'case', 'dream', 'new', 'idea', 'future', 'menu', 'lists', 'mess', 'really', 'find', 'much', 'inspiration', 'ideas', 'traditional', 'meals', 'fortunate', 'enough', 'work', 'alongside', 'amazing', 'chefs', 'taught', 'inspired', 'incredibly', 'mumma', 'sister', 'huge', 'vegan', 'foodies', 'always', 'coming', 'insane', 'recipes', 'well', 'recipe', 'ultimately', 'made', 'scratch', 'tried', 'tested', 'perfected', 'determine', 'local', 'organic', 'ingredients', 'make', 'cut', 'passionately', 'committed', 'sustainability', 'supporting', 'local', 'community', 'menus', 'always', 'based', 'around', 'freshest', 'seasonal', 'produce', 'sourced', 'local', 'organic', 'farmers', 'well', 'artisan', 'vegan', 'businesses', 'supply', 'ingredients', 'also', 'lovingly', 'grow', 'herbs', 'munchbox', 'expands', 'veggie', 'garden', 'include', 'pretty', 'crazy', 'exotic', 'fruit', 'vege', 'type', 'people', 'service', 'suit', 'munchbox', 'perfect', 'time', 'poor', 'hungry', 'care', 'put', 'body', 'looking', 'delicious', 'nutritious', 'meal', 'frozen', 'full', 'crap', 'put', 'freshness', 'flavour', 'love', 'care', 'meal', 'breaky', 'lunch', 'tea', 'pick', 'delivery', 'got', 'covered', 'think', 'cooking', 'thing', 'munchbox', 'exclusively', 'vegetarians', 'vegans', 'perfect', 'looking', 'try', 'tasty', 'healthy', 'alternative', 'custom', 'orders', 'everything', 'set', 'menu', 'yes', 'meals', 'fully', 'customisable', 'suit', 'diet', 'taste', 'like', 'tomato', 'let', 'us', 'know', 'gluten', 'intolerant', 'got', 'add', 'remove', 'ingredients', 'extras', 'meals', 'order', 'however', 'like', 'chefs', 'create', 'something', 'extra', 'special', 'happy', 'customise', 'personalised', 'menus', 'meal', 'plans', 'munchboxes', 'hoping', 'take', 'munchbox', 'future', 'munchbox', 'big', 'plans', 'future', 'expect', 'menu', 'keep', 'mind', 'incorporating', 'menulog', 'uber', 'eats', 'apart', 'service', 'expanding', 'trading', 'hours', 'service', 'locations', 'near', 'future', 'may', 'also', 'plans', 'munch', 'mobile', 'attend', 'festivals', 'markets', 'events', 'give', 'much', 'away', 'sooo', 'many', 'surprises', 'ya', 'spoil', 'check', 'via', 'insta', 'get', 'munch']\n"
          ]
        }
      ]
    },
    {
      "cell_type": "code",
      "source": [
        "# This res is storing the search recommendations in the order of choronology of the words appearing in the \n",
        "# article. In this method, the article is read from the beginning, and based on whichever words appeared \n",
        "# earlier, the ingredients corresponding those are displayed higher in the query search.\n",
        "# So here we print the order of ingredients taking into consideration, the the chronology order of occurence of each\n",
        "# word, as our top priority.\n",
        "res2=[]   \n",
        "for i in range(len(clean)):\n",
        "  for j in range(len(ingr)):\n",
        "    if(clean[i] in ingr[j]):\n",
        "      res2.append(ingredient[j])\n",
        "for k in range(len(res2)):\n",
        "  print(res2[k])"
      ],
      "metadata": {
        "colab": {
          "base_uri": "https://localhost:8080/"
        },
        "id": "a0O8Q1Ofs_dn",
        "outputId": "dfbc887f-0f3d-4047-e41a-12202a2225d2"
      },
      "execution_count": 24,
      "outputs": [
        {
          "output_type": "stream",
          "name": "stdout",
          "text": [
            "Chia Meal\n",
            "Vegan Carob Chips\n",
            "Vegan Chicken Strips\n",
            "Vegan Chorizo\n",
            "Vegan Marshmallow\n",
            "Vegan Puff Pastry Sheet\n",
            "Vegan Semisweet Chocolate Chips\n",
            "Vegan White Cake\n",
            "Organic Maize\n",
            "Organic Peruvian Groundcherry\n",
            "Organic Tartar Cream\n",
            "Vegan Carob Chips\n",
            "Vegan Chicken Strips\n",
            "Vegan Chorizo\n",
            "Vegan Marshmallow\n",
            "Vegan Puff Pastry Sheet\n",
            "Vegan Semisweet Chocolate Chips\n",
            "Vegan White Cake\n",
            "Vegan Carob Chips\n",
            "Vegan Chicken Strips\n",
            "Vegan Chorizo\n",
            "Vegan Marshmallow\n",
            "Vegan Puff Pastry Sheet\n",
            "Vegan Semisweet Chocolate Chips\n",
            "Vegan White Cake\n",
            "Chia Meal\n",
            "Mccormick Montreal Steak Seasoning\n",
            "Mccormick Montreal Steak Seasoning\n",
            "Mango\n",
            "Baby Abalone\n",
            "Vegan Carob Chips\n",
            "Vegan Chicken Strips\n",
            "Vegan Chorizo\n",
            "Vegan Marshmallow\n",
            "Vegan Puff Pastry Sheet\n",
            "Vegan Semisweet Chocolate Chips\n",
            "Vegan White Cake\n",
            "Vegan Carob Chips\n",
            "Vegan Chicken Strips\n",
            "Vegan Chorizo\n",
            "Vegan Marshmallow\n",
            "Vegan Puff Pastry Sheet\n",
            "Vegan Semisweet Chocolate Chips\n",
            "Vegan White Cake\n",
            "Baby Abalone\n",
            "Mccormick Montreal Steak Seasoning\n",
            "Vegan Carob Chips\n",
            "Vegan Chicken Strips\n",
            "Vegan Chorizo\n",
            "Vegan Marshmallow\n",
            "Vegan Puff Pastry Sheet\n",
            "Vegan Semisweet Chocolate Chips\n",
            "Vegan White Cake\n",
            "Vegan Carob Chips\n",
            "Vegan Chicken Strips\n",
            "Vegan Chorizo\n",
            "Vegan Marshmallow\n",
            "Vegan Puff Pastry Sheet\n",
            "Vegan Semisweet Chocolate Chips\n",
            "Vegan White Cake\n",
            "Vegan Carob Chips\n",
            "Vegan Chicken Strips\n",
            "Vegan Chorizo\n",
            "Vegan Marshmallow\n",
            "Vegan Puff Pastry Sheet\n",
            "Vegan Semisweet Chocolate Chips\n",
            "Vegan White Cake\n",
            "Chia Meal\n",
            "Munch Chocolate\n",
            "Vegan Semisweet Chocolate Chips\n",
            "Vegan Carob Chips\n",
            "Vegan Chicken Strips\n",
            "Vegan Chorizo\n",
            "Vegan Marshmallow\n",
            "Vegan Puff Pastry Sheet\n",
            "Vegan Semisweet Chocolate Chips\n",
            "Vegan White Cake\n",
            "Organic Maize\n",
            "Organic Peruvian Groundcherry\n",
            "Organic Tartar Cream\n",
            "Organic Maize\n",
            "Organic Peruvian Groundcherry\n",
            "Organic Tartar Cream\n",
            "Vegan Carob Chips\n",
            "Vegan Chicken Strips\n",
            "Vegan Chorizo\n",
            "Vegan Marshmallow\n",
            "Vegan Puff Pastry Sheet\n",
            "Vegan Semisweet Chocolate Chips\n",
            "Vegan White Cake\n",
            "Vegetable Stock\n",
            "Chia Meal\n",
            "Chia Meal\n",
            "Mccormick Montreal Steak Seasoning\n",
            "Pickled Cauliflower\n",
            "Vegan Puff Pastry Sheet\n",
            "Campari Tomato\n",
            "Tomato\n",
            "Smokies Sausage\n",
            "Orange Extract\n",
            "Chia Meal\n",
            "Munch Chocolate\n",
            "Organic Peruvian Groundcherry\n",
            "Vegetable Stock\n",
            "Munch Chocolate\n"
          ]
        }
      ]
    },
    {
      "cell_type": "code",
      "source": [
        "with open(\"Output2.txt\", \"w\") as output:\n",
        "    output.write(str(res2))"
      ],
      "metadata": {
        "id": "OYynXXe8QCmK"
      },
      "execution_count": 25,
      "outputs": []
    },
    {
      "cell_type": "markdown",
      "source": [
        "### Output\n",
        "The outputs we have got is in text files. We shall now convert the output from text to csv file so that it is nicely tabulated and hence easier to understand."
      ],
      "metadata": {
        "id": "NU-iRVAwQloG"
      }
    },
    {
      "cell_type": "code",
      "source": [
        "import pandas as pd"
      ],
      "metadata": {
        "id": "sGfqAjE1QHcY"
      },
      "execution_count": 26,
      "outputs": []
    },
    {
      "cell_type": "code",
      "source": [
        "read_file1 = pd.read_csv (r'Output1.txt')\n",
        "read_file_1 = read_file1.transpose()\n",
        "read_file_1.to_csv (r'Output1.csv',)"
      ],
      "metadata": {
        "id": "gL3sb9VnQ3KG"
      },
      "execution_count": 35,
      "outputs": []
    },
    {
      "cell_type": "code",
      "source": [
        "read_file_1"
      ],
      "metadata": {
        "colab": {
          "base_uri": "https://localhost:8080/",
          "height": 879
        },
        "id": "ylquHVMh3iE9",
        "outputId": "bf3f7cc4-1289-491d-bc0d-dc34b254478e"
      },
      "execution_count": 33,
      "outputs": [
        {
          "output_type": "execute_result",
          "data": {
            "text/plain": [
              "Empty DataFrame\n",
              "Columns: []\n",
              "Index: [['Vegan Carob Chips',  'Vegan Chicken Strips',  'Vegan Chorizo',  'Vegan Marshmallow',  'Vegan Puff Pastry Sheet',  'Vegan Semisweet Chocolate Chips',  'Vegan White Cake',  'Chia Meal',  'Organic Maize',  'Organic Peruvian Groundcherry',  'Organic Tartar Cream',  'Mccormick Montreal Steak Seasoning',  'Munch Chocolate',  'Mango',  'Baby Abalone',  'Baby Abalone'.1,  'Vegan Semisweet Chocolate Chips'.1,  'Vegetable Stock',  'Mccormick Montreal Steak Seasoning'.1,  'Pickled Cauliflower',  'Vegan Puff Pastry Sheet'.1,  'Campari Tomato',  'Tomato',  'Smokies Sausage',  'Orange Extract',  'Organic Peruvian Groundcherry'.1,  'Vegetable Stock']]"
            ],
            "text/html": [
              "\n",
              "  <div id=\"df-5f89307a-f3f7-43bf-b2ca-8bad6a30457f\">\n",
              "    <div class=\"colab-df-container\">\n",
              "      <div>\n",
              "<style scoped>\n",
              "    .dataframe tbody tr th:only-of-type {\n",
              "        vertical-align: middle;\n",
              "    }\n",
              "\n",
              "    .dataframe tbody tr th {\n",
              "        vertical-align: top;\n",
              "    }\n",
              "\n",
              "    .dataframe thead th {\n",
              "        text-align: right;\n",
              "    }\n",
              "</style>\n",
              "<table border=\"1\" class=\"dataframe\">\n",
              "  <thead>\n",
              "    <tr style=\"text-align: right;\">\n",
              "      <th></th>\n",
              "    </tr>\n",
              "  </thead>\n",
              "  <tbody>\n",
              "    <tr>\n",
              "      <th>['Vegan Carob Chips'</th>\n",
              "    </tr>\n",
              "    <tr>\n",
              "      <th>'Vegan Chicken Strips'</th>\n",
              "    </tr>\n",
              "    <tr>\n",
              "      <th>'Vegan Chorizo'</th>\n",
              "    </tr>\n",
              "    <tr>\n",
              "      <th>'Vegan Marshmallow'</th>\n",
              "    </tr>\n",
              "    <tr>\n",
              "      <th>'Vegan Puff Pastry Sheet'</th>\n",
              "    </tr>\n",
              "    <tr>\n",
              "      <th>'Vegan Semisweet Chocolate Chips'</th>\n",
              "    </tr>\n",
              "    <tr>\n",
              "      <th>'Vegan White Cake'</th>\n",
              "    </tr>\n",
              "    <tr>\n",
              "      <th>'Chia Meal'</th>\n",
              "    </tr>\n",
              "    <tr>\n",
              "      <th>'Organic Maize'</th>\n",
              "    </tr>\n",
              "    <tr>\n",
              "      <th>'Organic Peruvian Groundcherry'</th>\n",
              "    </tr>\n",
              "    <tr>\n",
              "      <th>'Organic Tartar Cream'</th>\n",
              "    </tr>\n",
              "    <tr>\n",
              "      <th>'Mccormick Montreal Steak Seasoning'</th>\n",
              "    </tr>\n",
              "    <tr>\n",
              "      <th>'Munch Chocolate'</th>\n",
              "    </tr>\n",
              "    <tr>\n",
              "      <th>'Mango'</th>\n",
              "    </tr>\n",
              "    <tr>\n",
              "      <th>'Baby Abalone'</th>\n",
              "    </tr>\n",
              "    <tr>\n",
              "      <th>'Baby Abalone'.1</th>\n",
              "    </tr>\n",
              "    <tr>\n",
              "      <th>'Vegan Semisweet Chocolate Chips'.1</th>\n",
              "    </tr>\n",
              "    <tr>\n",
              "      <th>'Vegetable Stock'</th>\n",
              "    </tr>\n",
              "    <tr>\n",
              "      <th>'Mccormick Montreal Steak Seasoning'.1</th>\n",
              "    </tr>\n",
              "    <tr>\n",
              "      <th>'Pickled Cauliflower'</th>\n",
              "    </tr>\n",
              "    <tr>\n",
              "      <th>'Vegan Puff Pastry Sheet'.1</th>\n",
              "    </tr>\n",
              "    <tr>\n",
              "      <th>'Campari Tomato'</th>\n",
              "    </tr>\n",
              "    <tr>\n",
              "      <th>'Tomato'</th>\n",
              "    </tr>\n",
              "    <tr>\n",
              "      <th>'Smokies Sausage'</th>\n",
              "    </tr>\n",
              "    <tr>\n",
              "      <th>'Orange Extract'</th>\n",
              "    </tr>\n",
              "    <tr>\n",
              "      <th>'Organic Peruvian Groundcherry'.1</th>\n",
              "    </tr>\n",
              "    <tr>\n",
              "      <th>'Vegetable Stock']</th>\n",
              "    </tr>\n",
              "  </tbody>\n",
              "</table>\n",
              "</div>\n",
              "      <button class=\"colab-df-convert\" onclick=\"convertToInteractive('df-5f89307a-f3f7-43bf-b2ca-8bad6a30457f')\"\n",
              "              title=\"Convert this dataframe to an interactive table.\"\n",
              "              style=\"display:none;\">\n",
              "        \n",
              "  <svg xmlns=\"http://www.w3.org/2000/svg\" height=\"24px\"viewBox=\"0 0 24 24\"\n",
              "       width=\"24px\">\n",
              "    <path d=\"M0 0h24v24H0V0z\" fill=\"none\"/>\n",
              "    <path d=\"M18.56 5.44l.94 2.06.94-2.06 2.06-.94-2.06-.94-.94-2.06-.94 2.06-2.06.94zm-11 1L8.5 8.5l.94-2.06 2.06-.94-2.06-.94L8.5 2.5l-.94 2.06-2.06.94zm10 10l.94 2.06.94-2.06 2.06-.94-2.06-.94-.94-2.06-.94 2.06-2.06.94z\"/><path d=\"M17.41 7.96l-1.37-1.37c-.4-.4-.92-.59-1.43-.59-.52 0-1.04.2-1.43.59L10.3 9.45l-7.72 7.72c-.78.78-.78 2.05 0 2.83L4 21.41c.39.39.9.59 1.41.59.51 0 1.02-.2 1.41-.59l7.78-7.78 2.81-2.81c.8-.78.8-2.07 0-2.86zM5.41 20L4 18.59l7.72-7.72 1.47 1.35L5.41 20z\"/>\n",
              "  </svg>\n",
              "      </button>\n",
              "      \n",
              "  <style>\n",
              "    .colab-df-container {\n",
              "      display:flex;\n",
              "      flex-wrap:wrap;\n",
              "      gap: 12px;\n",
              "    }\n",
              "\n",
              "    .colab-df-convert {\n",
              "      background-color: #E8F0FE;\n",
              "      border: none;\n",
              "      border-radius: 50%;\n",
              "      cursor: pointer;\n",
              "      display: none;\n",
              "      fill: #1967D2;\n",
              "      height: 32px;\n",
              "      padding: 0 0 0 0;\n",
              "      width: 32px;\n",
              "    }\n",
              "\n",
              "    .colab-df-convert:hover {\n",
              "      background-color: #E2EBFA;\n",
              "      box-shadow: 0px 1px 2px rgba(60, 64, 67, 0.3), 0px 1px 3px 1px rgba(60, 64, 67, 0.15);\n",
              "      fill: #174EA6;\n",
              "    }\n",
              "\n",
              "    [theme=dark] .colab-df-convert {\n",
              "      background-color: #3B4455;\n",
              "      fill: #D2E3FC;\n",
              "    }\n",
              "\n",
              "    [theme=dark] .colab-df-convert:hover {\n",
              "      background-color: #434B5C;\n",
              "      box-shadow: 0px 1px 3px 1px rgba(0, 0, 0, 0.15);\n",
              "      filter: drop-shadow(0px 1px 2px rgba(0, 0, 0, 0.3));\n",
              "      fill: #FFFFFF;\n",
              "    }\n",
              "  </style>\n",
              "\n",
              "      <script>\n",
              "        const buttonEl =\n",
              "          document.querySelector('#df-5f89307a-f3f7-43bf-b2ca-8bad6a30457f button.colab-df-convert');\n",
              "        buttonEl.style.display =\n",
              "          google.colab.kernel.accessAllowed ? 'block' : 'none';\n",
              "\n",
              "        async function convertToInteractive(key) {\n",
              "          const element = document.querySelector('#df-5f89307a-f3f7-43bf-b2ca-8bad6a30457f');\n",
              "          const dataTable =\n",
              "            await google.colab.kernel.invokeFunction('convertToInteractive',\n",
              "                                                     [key], {});\n",
              "          if (!dataTable) return;\n",
              "\n",
              "          const docLinkHtml = 'Like what you see? Visit the ' +\n",
              "            '<a target=\"_blank\" href=https://colab.research.google.com/notebooks/data_table.ipynb>data table notebook</a>'\n",
              "            + ' to learn more about interactive tables.';\n",
              "          element.innerHTML = '';\n",
              "          dataTable['output_type'] = 'display_data';\n",
              "          await google.colab.output.renderOutput(dataTable, element);\n",
              "          const docLink = document.createElement('div');\n",
              "          docLink.innerHTML = docLinkHtml;\n",
              "          element.appendChild(docLink);\n",
              "        }\n",
              "      </script>\n",
              "    </div>\n",
              "  </div>\n",
              "  "
            ]
          },
          "metadata": {},
          "execution_count": 33
        }
      ]
    },
    {
      "cell_type": "code",
      "source": [
        "read_file2 = pd.read_csv (r'Output2.txt')\n",
        "read_file_2 = read_file2.transpose()\n",
        "read_file_2.to_csv (r'Output2.csv')"
      ],
      "metadata": {
        "id": "9jHYxXYmQ6yT"
      },
      "execution_count": 36,
      "outputs": []
    },
    {
      "cell_type": "code",
      "source": [
        "read_file_2"
      ],
      "metadata": {
        "colab": {
          "base_uri": "https://localhost:8080/",
          "height": 406
        },
        "id": "Sput3Cyw0xQC",
        "outputId": "fe356695-8b13-43d6-cbd9-3e4d3a74fd0f"
      },
      "execution_count": 37,
      "outputs": [
        {
          "output_type": "execute_result",
          "data": {
            "text/plain": [
              "Empty DataFrame\n",
              "Columns: []\n",
              "Index: [['Chia Meal',  'Vegan Carob Chips',  'Vegan Chicken Strips',  'Vegan Chorizo',  'Vegan Marshmallow',  'Vegan Puff Pastry Sheet',  'Vegan Semisweet Chocolate Chips',  'Vegan White Cake',  'Organic Maize',  'Organic Peruvian Groundcherry',  'Organic Tartar Cream',  'Vegan Carob Chips'.1,  'Vegan Chicken Strips'.1,  'Vegan Chorizo'.1,  'Vegan Marshmallow'.1,  'Vegan Puff Pastry Sheet'.1,  'Vegan Semisweet Chocolate Chips'.1,  'Vegan White Cake'.1,  'Vegan Carob Chips'.2,  'Vegan Chicken Strips'.2,  'Vegan Chorizo'.2,  'Vegan Marshmallow'.2,  'Vegan Puff Pastry Sheet'.2,  'Vegan Semisweet Chocolate Chips'.2,  'Vegan White Cake'.2,  'Chia Meal',  'Mccormick Montreal Steak Seasoning',  'Mccormick Montreal Steak Seasoning'.1,  'Mango',  'Baby Abalone',  'Vegan Carob Chips'.3,  'Vegan Chicken Strips'.3,  'Vegan Chorizo'.3,  'Vegan Marshmallow'.3,  'Vegan Puff Pastry Sheet'.3,  'Vegan Semisweet Chocolate Chips'.3,  'Vegan White Cake'.3,  'Vegan Carob Chips'.4,  'Vegan Chicken Strips'.4,  'Vegan Chorizo'.4,  'Vegan Marshmallow'.4,  'Vegan Puff Pastry Sheet'.4,  'Vegan Semisweet Chocolate Chips'.4,  'Vegan White Cake'.4,  'Baby Abalone'.1,  'Mccormick Montreal Steak Seasoning'.2,  'Vegan Carob Chips'.5,  'Vegan Chicken Strips'.5,  'Vegan Chorizo'.5,  'Vegan Marshmallow'.5,  'Vegan Puff Pastry Sheet'.5,  'Vegan Semisweet Chocolate Chips'.5,  'Vegan White Cake'.5,  'Vegan Carob Chips'.6,  'Vegan Chicken Strips'.6,  'Vegan Chorizo'.6,  'Vegan Marshmallow'.6,  'Vegan Puff Pastry Sheet'.6,  'Vegan Semisweet Chocolate Chips'.6,  'Vegan White Cake'.6,  'Vegan Carob Chips'.7,  'Vegan Chicken Strips'.7,  'Vegan Chorizo'.7,  'Vegan Marshmallow'.7,  'Vegan Puff Pastry Sheet'.7,  'Vegan Semisweet Chocolate Chips'.7,  'Vegan White Cake'.7,  'Chia Meal'.1,  'Munch Chocolate',  'Vegan Semisweet Chocolate Chips'.8,  'Vegan Carob Chips'.8,  'Vegan Chicken Strips'.8,  'Vegan Chorizo'.8,  'Vegan Marshmallow'.8,  'Vegan Puff Pastry Sheet'.8,  'Vegan Semisweet Chocolate Chips'.9,  'Vegan White Cake'.8,  'Organic Maize'.1,  'Organic Peruvian Groundcherry'.1,  'Organic Tartar Cream'.1,  'Organic Maize'.2,  'Organic Peruvian Groundcherry'.2,  'Organic Tartar Cream'.2,  'Vegan Carob Chips'.9,  'Vegan Chicken Strips'.9,  'Vegan Chorizo'.9,  'Vegan Marshmallow'.9,  'Vegan Puff Pastry Sheet'.9,  'Vegan Semisweet Chocolate Chips'.10,  'Vegan White Cake'.9,  'Vegetable Stock',  'Chia Meal'.2,  'Chia Meal'.3,  'Mccormick Montreal Steak Seasoning'.3,  'Pickled Cauliflower',  'Vegan Puff Pastry Sheet'.10,  'Campari Tomato',  'Tomato',  'Smokies Sausage',  'Orange Extract', ...]\n",
              "\n",
              "[105 rows x 0 columns]"
            ],
            "text/html": [
              "\n",
              "  <div id=\"df-31d1b160-82e4-4c9f-a31b-c55630de46bd\">\n",
              "    <div class=\"colab-df-container\">\n",
              "      <div>\n",
              "<style scoped>\n",
              "    .dataframe tbody tr th:only-of-type {\n",
              "        vertical-align: middle;\n",
              "    }\n",
              "\n",
              "    .dataframe tbody tr th {\n",
              "        vertical-align: top;\n",
              "    }\n",
              "\n",
              "    .dataframe thead th {\n",
              "        text-align: right;\n",
              "    }\n",
              "</style>\n",
              "<table border=\"1\" class=\"dataframe\">\n",
              "  <thead>\n",
              "    <tr style=\"text-align: right;\">\n",
              "      <th></th>\n",
              "    </tr>\n",
              "  </thead>\n",
              "  <tbody>\n",
              "    <tr>\n",
              "      <th>['Chia Meal'</th>\n",
              "    </tr>\n",
              "    <tr>\n",
              "      <th>'Vegan Carob Chips'</th>\n",
              "    </tr>\n",
              "    <tr>\n",
              "      <th>'Vegan Chicken Strips'</th>\n",
              "    </tr>\n",
              "    <tr>\n",
              "      <th>'Vegan Chorizo'</th>\n",
              "    </tr>\n",
              "    <tr>\n",
              "      <th>'Vegan Marshmallow'</th>\n",
              "    </tr>\n",
              "    <tr>\n",
              "      <th>...</th>\n",
              "    </tr>\n",
              "    <tr>\n",
              "      <th>'Chia Meal'.4</th>\n",
              "    </tr>\n",
              "    <tr>\n",
              "      <th>'Munch Chocolate'.1</th>\n",
              "    </tr>\n",
              "    <tr>\n",
              "      <th>'Organic Peruvian Groundcherry'.3</th>\n",
              "    </tr>\n",
              "    <tr>\n",
              "      <th>'Vegetable Stock'.1</th>\n",
              "    </tr>\n",
              "    <tr>\n",
              "      <th>'Munch Chocolate']</th>\n",
              "    </tr>\n",
              "  </tbody>\n",
              "</table>\n",
              "<p>105 rows × 0 columns</p>\n",
              "</div>\n",
              "      <button class=\"colab-df-convert\" onclick=\"convertToInteractive('df-31d1b160-82e4-4c9f-a31b-c55630de46bd')\"\n",
              "              title=\"Convert this dataframe to an interactive table.\"\n",
              "              style=\"display:none;\">\n",
              "        \n",
              "  <svg xmlns=\"http://www.w3.org/2000/svg\" height=\"24px\"viewBox=\"0 0 24 24\"\n",
              "       width=\"24px\">\n",
              "    <path d=\"M0 0h24v24H0V0z\" fill=\"none\"/>\n",
              "    <path d=\"M18.56 5.44l.94 2.06.94-2.06 2.06-.94-2.06-.94-.94-2.06-.94 2.06-2.06.94zm-11 1L8.5 8.5l.94-2.06 2.06-.94-2.06-.94L8.5 2.5l-.94 2.06-2.06.94zm10 10l.94 2.06.94-2.06 2.06-.94-2.06-.94-.94-2.06-.94 2.06-2.06.94z\"/><path d=\"M17.41 7.96l-1.37-1.37c-.4-.4-.92-.59-1.43-.59-.52 0-1.04.2-1.43.59L10.3 9.45l-7.72 7.72c-.78.78-.78 2.05 0 2.83L4 21.41c.39.39.9.59 1.41.59.51 0 1.02-.2 1.41-.59l7.78-7.78 2.81-2.81c.8-.78.8-2.07 0-2.86zM5.41 20L4 18.59l7.72-7.72 1.47 1.35L5.41 20z\"/>\n",
              "  </svg>\n",
              "      </button>\n",
              "      \n",
              "  <style>\n",
              "    .colab-df-container {\n",
              "      display:flex;\n",
              "      flex-wrap:wrap;\n",
              "      gap: 12px;\n",
              "    }\n",
              "\n",
              "    .colab-df-convert {\n",
              "      background-color: #E8F0FE;\n",
              "      border: none;\n",
              "      border-radius: 50%;\n",
              "      cursor: pointer;\n",
              "      display: none;\n",
              "      fill: #1967D2;\n",
              "      height: 32px;\n",
              "      padding: 0 0 0 0;\n",
              "      width: 32px;\n",
              "    }\n",
              "\n",
              "    .colab-df-convert:hover {\n",
              "      background-color: #E2EBFA;\n",
              "      box-shadow: 0px 1px 2px rgba(60, 64, 67, 0.3), 0px 1px 3px 1px rgba(60, 64, 67, 0.15);\n",
              "      fill: #174EA6;\n",
              "    }\n",
              "\n",
              "    [theme=dark] .colab-df-convert {\n",
              "      background-color: #3B4455;\n",
              "      fill: #D2E3FC;\n",
              "    }\n",
              "\n",
              "    [theme=dark] .colab-df-convert:hover {\n",
              "      background-color: #434B5C;\n",
              "      box-shadow: 0px 1px 3px 1px rgba(0, 0, 0, 0.15);\n",
              "      filter: drop-shadow(0px 1px 2px rgba(0, 0, 0, 0.3));\n",
              "      fill: #FFFFFF;\n",
              "    }\n",
              "  </style>\n",
              "\n",
              "      <script>\n",
              "        const buttonEl =\n",
              "          document.querySelector('#df-31d1b160-82e4-4c9f-a31b-c55630de46bd button.colab-df-convert');\n",
              "        buttonEl.style.display =\n",
              "          google.colab.kernel.accessAllowed ? 'block' : 'none';\n",
              "\n",
              "        async function convertToInteractive(key) {\n",
              "          const element = document.querySelector('#df-31d1b160-82e4-4c9f-a31b-c55630de46bd');\n",
              "          const dataTable =\n",
              "            await google.colab.kernel.invokeFunction('convertToInteractive',\n",
              "                                                     [key], {});\n",
              "          if (!dataTable) return;\n",
              "\n",
              "          const docLinkHtml = 'Like what you see? Visit the ' +\n",
              "            '<a target=\"_blank\" href=https://colab.research.google.com/notebooks/data_table.ipynb>data table notebook</a>'\n",
              "            + ' to learn more about interactive tables.';\n",
              "          element.innerHTML = '';\n",
              "          dataTable['output_type'] = 'display_data';\n",
              "          await google.colab.output.renderOutput(dataTable, element);\n",
              "          const docLink = document.createElement('div');\n",
              "          docLink.innerHTML = docLinkHtml;\n",
              "          element.appendChild(docLink);\n",
              "        }\n",
              "      </script>\n",
              "    </div>\n",
              "  </div>\n",
              "  "
            ]
          },
          "metadata": {},
          "execution_count": 37
        }
      ]
    }
  ]
}